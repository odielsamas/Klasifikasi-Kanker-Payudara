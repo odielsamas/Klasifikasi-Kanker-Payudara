{
  "nbformat": 4,
  "nbformat_minor": 0,
  "metadata": {
    "colab": {
      "provenance": []
    },
    "kernelspec": {
      "name": "python3",
      "display_name": "Python 3"
    },
    "language_info": {
      "name": "python"
    }
  },
  "cells": [
    {
      "cell_type": "markdown",
      "source": [
        "# **Klasifikasi Kanker Payudara Menggunakan Breast Cancer Dataset** "
      ],
      "metadata": {
        "id": "n-efAqm4lPaX"
      }
    },
    {
      "cell_type": "markdown",
      "source": [
        "# 1. Mengugumpulkan Data\n",
        "Data diambil dari UCI Machine Learning\n",
        "Link => http://archive.ics.uci.edu/ml/machine-learning-databases/breast-cancer-wisconsin/wdbc.data \n",
        "Keterangan :\n",
        "* 569 sampel data dan 31 atribut (fitur)\n",
        "* Tidak ditemukan missing value pada dataset\n",
        "* class label pada atribut kedua"
      ],
      "metadata": {
        "id": "6q30hpgQlR7X"
      }
    },
    {
      "cell_type": "markdown",
      "source": [
        "# 2. Menelaah Data\n",
        "Terdiri dari :\n",
        "* Load library yang dibutuhkan\n",
        "* Load dataset\n",
        "* Memberi nama header dan atributnya\n",
        "* Menganalisa tipe dan relasi data\n",
        "* Memberikan laporan atau kesimpulan dari hasil telaah *data*"
      ],
      "metadata": {
        "id": "bbNzChealbCG"
      }
    },
    {
      "cell_type": "code",
      "source": [
        "from google.colab import drive\n",
        "drive.mount('/content/drive')"
      ],
      "metadata": {
        "colab": {
          "base_uri": "https://localhost:8080/"
        },
        "id": "VVqrBTJxmmqv",
        "outputId": "85f9c350-5878-4ebc-9d25-87a1bbccdfc7"
      },
      "execution_count": null,
      "outputs": [
        {
          "output_type": "stream",
          "name": "stdout",
          "text": [
            "Drive already mounted at /content/drive; to attempt to forcibly remount, call drive.mount(\"/content/drive\", force_remount=True).\n"
          ]
        }
      ]
    },
    {
      "cell_type": "code",
      "source": [
        "# Load library yang dibutuhkan\n",
        "import pandas as pd\n",
        "import numpy as np\n",
        "from sklearn.model_selection import train_test_split\n",
        "from sklearn.model_selection import GridSearchCV\n",
        "from sklearn.metrics import accuracy_score\n",
        "from sklearn.metrics import precision_score\n",
        "from sklearn.metrics import recall_score\n",
        "from sklearn.metrics import confusion_matrix\n",
        "from sklearn.pipeline import Pipeline\n",
        "from sklearn.tree import DecisionTreeClassifier\n",
        "from sklearn.neighbors import KNeighborsRegressor\n",
        "from sklearn.ensemble import RandomForestRegressor\n",
        "from sklearn.naive_bayes import MultinomialNB\n",
        "from sklearn.preprocessing import  OneHotEncoder\n",
        "import matplotlib.pyplot as plt\n",
        "%matplotlib inline\n",
        "import seaborn as sns\n",
        "import missingno\n",
        "\n",
        "from sklearn.preprocessing import StandardScaler\n",
        "from sklearn.decomposition import PCA"
      ],
      "metadata": {
        "id": "eD31pCVqm9Yv"
      },
      "execution_count": null,
      "outputs": []
    },
    {
      "cell_type": "code",
      "source": [
        "url = \"/content/drive/MyDrive/Associate Data Scientist/wdbc.csv\"\n",
        "\n",
        "data = pd.read_csv(url, header=None)"
      ],
      "metadata": {
        "id": "Uf95PSDmpIkt"
      },
      "execution_count": null,
      "outputs": []
    },
    {
      "cell_type": "code",
      "source": [
        "data.head(10)"
      ],
      "metadata": {
        "colab": {
          "base_uri": "https://localhost:8080/",
          "height": 392
        },
        "id": "aCXqWF22pX5d",
        "outputId": "e3a51f58-6907-413d-dfa0-5228573a26d6"
      },
      "execution_count": null,
      "outputs": [
        {
          "output_type": "execute_result",
          "data": {
            "text/plain": [
              "         0  1      2      3       4       5        6        7        8   \\\n",
              "0    842302  M  17.99  10.38  122.80  1001.0  0.11840  0.27760  0.30010   \n",
              "1    842517  M  20.57  17.77  132.90  1326.0  0.08474  0.07864  0.08690   \n",
              "2  84300903  M  19.69  21.25  130.00  1203.0  0.10960  0.15990  0.19740   \n",
              "3  84348301  M  11.42  20.38   77.58   386.1  0.14250  0.28390  0.24140   \n",
              "4  84358402  M  20.29  14.34  135.10  1297.0  0.10030  0.13280  0.19800   \n",
              "5    843786  M  12.45  15.70   82.57   477.1  0.12780  0.17000  0.15780   \n",
              "6    844359  M  18.25  19.98  119.60  1040.0  0.09463  0.10900  0.11270   \n",
              "7  84458202  M  13.71  20.83   90.20   577.9  0.11890  0.16450  0.09366   \n",
              "8    844981  M  13.00  21.82   87.50   519.8  0.12730  0.19320  0.18590   \n",
              "9  84501001  M  12.46  24.04   83.97   475.9  0.11860  0.23960  0.22730   \n",
              "\n",
              "        9   ...     22     23      24      25      26      27      28      29  \\\n",
              "0  0.14710  ...  25.38  17.33  184.60  2019.0  0.1622  0.6656  0.7119  0.2654   \n",
              "1  0.07017  ...  24.99  23.41  158.80  1956.0  0.1238  0.1866  0.2416  0.1860   \n",
              "2  0.12790  ...  23.57  25.53  152.50  1709.0  0.1444  0.4245  0.4504  0.2430   \n",
              "3  0.10520  ...  14.91  26.50   98.87   567.7  0.2098  0.8663  0.6869  0.2575   \n",
              "4  0.10430  ...  22.54  16.67  152.20  1575.0  0.1374  0.2050  0.4000  0.1625   \n",
              "5  0.08089  ...  15.47  23.75  103.40   741.6  0.1791  0.5249  0.5355  0.1741   \n",
              "6  0.07400  ...  22.88  27.66  153.20  1606.0  0.1442  0.2576  0.3784  0.1932   \n",
              "7  0.05985  ...  17.06  28.14  110.60   897.0  0.1654  0.3682  0.2678  0.1556   \n",
              "8  0.09353  ...  15.49  30.73  106.20   739.3  0.1703  0.5401  0.5390  0.2060   \n",
              "9  0.08543  ...  15.09  40.68   97.65   711.4  0.1853  1.0580  1.1050  0.2210   \n",
              "\n",
              "       30       31  \n",
              "0  0.4601  0.11890  \n",
              "1  0.2750  0.08902  \n",
              "2  0.3613  0.08758  \n",
              "3  0.6638  0.17300  \n",
              "4  0.2364  0.07678  \n",
              "5  0.3985  0.12440  \n",
              "6  0.3063  0.08368  \n",
              "7  0.3196  0.11510  \n",
              "8  0.4378  0.10720  \n",
              "9  0.4366  0.20750  \n",
              "\n",
              "[10 rows x 32 columns]"
            ],
            "text/html": [
              "\n",
              "  <div id=\"df-49a3c0b3-bd6d-41b2-8898-1ff14859d4a8\">\n",
              "    <div class=\"colab-df-container\">\n",
              "      <div>\n",
              "<style scoped>\n",
              "    .dataframe tbody tr th:only-of-type {\n",
              "        vertical-align: middle;\n",
              "    }\n",
              "\n",
              "    .dataframe tbody tr th {\n",
              "        vertical-align: top;\n",
              "    }\n",
              "\n",
              "    .dataframe thead th {\n",
              "        text-align: right;\n",
              "    }\n",
              "</style>\n",
              "<table border=\"1\" class=\"dataframe\">\n",
              "  <thead>\n",
              "    <tr style=\"text-align: right;\">\n",
              "      <th></th>\n",
              "      <th>0</th>\n",
              "      <th>1</th>\n",
              "      <th>2</th>\n",
              "      <th>3</th>\n",
              "      <th>4</th>\n",
              "      <th>5</th>\n",
              "      <th>6</th>\n",
              "      <th>7</th>\n",
              "      <th>8</th>\n",
              "      <th>9</th>\n",
              "      <th>...</th>\n",
              "      <th>22</th>\n",
              "      <th>23</th>\n",
              "      <th>24</th>\n",
              "      <th>25</th>\n",
              "      <th>26</th>\n",
              "      <th>27</th>\n",
              "      <th>28</th>\n",
              "      <th>29</th>\n",
              "      <th>30</th>\n",
              "      <th>31</th>\n",
              "    </tr>\n",
              "  </thead>\n",
              "  <tbody>\n",
              "    <tr>\n",
              "      <th>0</th>\n",
              "      <td>842302</td>\n",
              "      <td>M</td>\n",
              "      <td>17.99</td>\n",
              "      <td>10.38</td>\n",
              "      <td>122.80</td>\n",
              "      <td>1001.0</td>\n",
              "      <td>0.11840</td>\n",
              "      <td>0.27760</td>\n",
              "      <td>0.30010</td>\n",
              "      <td>0.14710</td>\n",
              "      <td>...</td>\n",
              "      <td>25.38</td>\n",
              "      <td>17.33</td>\n",
              "      <td>184.60</td>\n",
              "      <td>2019.0</td>\n",
              "      <td>0.1622</td>\n",
              "      <td>0.6656</td>\n",
              "      <td>0.7119</td>\n",
              "      <td>0.2654</td>\n",
              "      <td>0.4601</td>\n",
              "      <td>0.11890</td>\n",
              "    </tr>\n",
              "    <tr>\n",
              "      <th>1</th>\n",
              "      <td>842517</td>\n",
              "      <td>M</td>\n",
              "      <td>20.57</td>\n",
              "      <td>17.77</td>\n",
              "      <td>132.90</td>\n",
              "      <td>1326.0</td>\n",
              "      <td>0.08474</td>\n",
              "      <td>0.07864</td>\n",
              "      <td>0.08690</td>\n",
              "      <td>0.07017</td>\n",
              "      <td>...</td>\n",
              "      <td>24.99</td>\n",
              "      <td>23.41</td>\n",
              "      <td>158.80</td>\n",
              "      <td>1956.0</td>\n",
              "      <td>0.1238</td>\n",
              "      <td>0.1866</td>\n",
              "      <td>0.2416</td>\n",
              "      <td>0.1860</td>\n",
              "      <td>0.2750</td>\n",
              "      <td>0.08902</td>\n",
              "    </tr>\n",
              "    <tr>\n",
              "      <th>2</th>\n",
              "      <td>84300903</td>\n",
              "      <td>M</td>\n",
              "      <td>19.69</td>\n",
              "      <td>21.25</td>\n",
              "      <td>130.00</td>\n",
              "      <td>1203.0</td>\n",
              "      <td>0.10960</td>\n",
              "      <td>0.15990</td>\n",
              "      <td>0.19740</td>\n",
              "      <td>0.12790</td>\n",
              "      <td>...</td>\n",
              "      <td>23.57</td>\n",
              "      <td>25.53</td>\n",
              "      <td>152.50</td>\n",
              "      <td>1709.0</td>\n",
              "      <td>0.1444</td>\n",
              "      <td>0.4245</td>\n",
              "      <td>0.4504</td>\n",
              "      <td>0.2430</td>\n",
              "      <td>0.3613</td>\n",
              "      <td>0.08758</td>\n",
              "    </tr>\n",
              "    <tr>\n",
              "      <th>3</th>\n",
              "      <td>84348301</td>\n",
              "      <td>M</td>\n",
              "      <td>11.42</td>\n",
              "      <td>20.38</td>\n",
              "      <td>77.58</td>\n",
              "      <td>386.1</td>\n",
              "      <td>0.14250</td>\n",
              "      <td>0.28390</td>\n",
              "      <td>0.24140</td>\n",
              "      <td>0.10520</td>\n",
              "      <td>...</td>\n",
              "      <td>14.91</td>\n",
              "      <td>26.50</td>\n",
              "      <td>98.87</td>\n",
              "      <td>567.7</td>\n",
              "      <td>0.2098</td>\n",
              "      <td>0.8663</td>\n",
              "      <td>0.6869</td>\n",
              "      <td>0.2575</td>\n",
              "      <td>0.6638</td>\n",
              "      <td>0.17300</td>\n",
              "    </tr>\n",
              "    <tr>\n",
              "      <th>4</th>\n",
              "      <td>84358402</td>\n",
              "      <td>M</td>\n",
              "      <td>20.29</td>\n",
              "      <td>14.34</td>\n",
              "      <td>135.10</td>\n",
              "      <td>1297.0</td>\n",
              "      <td>0.10030</td>\n",
              "      <td>0.13280</td>\n",
              "      <td>0.19800</td>\n",
              "      <td>0.10430</td>\n",
              "      <td>...</td>\n",
              "      <td>22.54</td>\n",
              "      <td>16.67</td>\n",
              "      <td>152.20</td>\n",
              "      <td>1575.0</td>\n",
              "      <td>0.1374</td>\n",
              "      <td>0.2050</td>\n",
              "      <td>0.4000</td>\n",
              "      <td>0.1625</td>\n",
              "      <td>0.2364</td>\n",
              "      <td>0.07678</td>\n",
              "    </tr>\n",
              "    <tr>\n",
              "      <th>5</th>\n",
              "      <td>843786</td>\n",
              "      <td>M</td>\n",
              "      <td>12.45</td>\n",
              "      <td>15.70</td>\n",
              "      <td>82.57</td>\n",
              "      <td>477.1</td>\n",
              "      <td>0.12780</td>\n",
              "      <td>0.17000</td>\n",
              "      <td>0.15780</td>\n",
              "      <td>0.08089</td>\n",
              "      <td>...</td>\n",
              "      <td>15.47</td>\n",
              "      <td>23.75</td>\n",
              "      <td>103.40</td>\n",
              "      <td>741.6</td>\n",
              "      <td>0.1791</td>\n",
              "      <td>0.5249</td>\n",
              "      <td>0.5355</td>\n",
              "      <td>0.1741</td>\n",
              "      <td>0.3985</td>\n",
              "      <td>0.12440</td>\n",
              "    </tr>\n",
              "    <tr>\n",
              "      <th>6</th>\n",
              "      <td>844359</td>\n",
              "      <td>M</td>\n",
              "      <td>18.25</td>\n",
              "      <td>19.98</td>\n",
              "      <td>119.60</td>\n",
              "      <td>1040.0</td>\n",
              "      <td>0.09463</td>\n",
              "      <td>0.10900</td>\n",
              "      <td>0.11270</td>\n",
              "      <td>0.07400</td>\n",
              "      <td>...</td>\n",
              "      <td>22.88</td>\n",
              "      <td>27.66</td>\n",
              "      <td>153.20</td>\n",
              "      <td>1606.0</td>\n",
              "      <td>0.1442</td>\n",
              "      <td>0.2576</td>\n",
              "      <td>0.3784</td>\n",
              "      <td>0.1932</td>\n",
              "      <td>0.3063</td>\n",
              "      <td>0.08368</td>\n",
              "    </tr>\n",
              "    <tr>\n",
              "      <th>7</th>\n",
              "      <td>84458202</td>\n",
              "      <td>M</td>\n",
              "      <td>13.71</td>\n",
              "      <td>20.83</td>\n",
              "      <td>90.20</td>\n",
              "      <td>577.9</td>\n",
              "      <td>0.11890</td>\n",
              "      <td>0.16450</td>\n",
              "      <td>0.09366</td>\n",
              "      <td>0.05985</td>\n",
              "      <td>...</td>\n",
              "      <td>17.06</td>\n",
              "      <td>28.14</td>\n",
              "      <td>110.60</td>\n",
              "      <td>897.0</td>\n",
              "      <td>0.1654</td>\n",
              "      <td>0.3682</td>\n",
              "      <td>0.2678</td>\n",
              "      <td>0.1556</td>\n",
              "      <td>0.3196</td>\n",
              "      <td>0.11510</td>\n",
              "    </tr>\n",
              "    <tr>\n",
              "      <th>8</th>\n",
              "      <td>844981</td>\n",
              "      <td>M</td>\n",
              "      <td>13.00</td>\n",
              "      <td>21.82</td>\n",
              "      <td>87.50</td>\n",
              "      <td>519.8</td>\n",
              "      <td>0.12730</td>\n",
              "      <td>0.19320</td>\n",
              "      <td>0.18590</td>\n",
              "      <td>0.09353</td>\n",
              "      <td>...</td>\n",
              "      <td>15.49</td>\n",
              "      <td>30.73</td>\n",
              "      <td>106.20</td>\n",
              "      <td>739.3</td>\n",
              "      <td>0.1703</td>\n",
              "      <td>0.5401</td>\n",
              "      <td>0.5390</td>\n",
              "      <td>0.2060</td>\n",
              "      <td>0.4378</td>\n",
              "      <td>0.10720</td>\n",
              "    </tr>\n",
              "    <tr>\n",
              "      <th>9</th>\n",
              "      <td>84501001</td>\n",
              "      <td>M</td>\n",
              "      <td>12.46</td>\n",
              "      <td>24.04</td>\n",
              "      <td>83.97</td>\n",
              "      <td>475.9</td>\n",
              "      <td>0.11860</td>\n",
              "      <td>0.23960</td>\n",
              "      <td>0.22730</td>\n",
              "      <td>0.08543</td>\n",
              "      <td>...</td>\n",
              "      <td>15.09</td>\n",
              "      <td>40.68</td>\n",
              "      <td>97.65</td>\n",
              "      <td>711.4</td>\n",
              "      <td>0.1853</td>\n",
              "      <td>1.0580</td>\n",
              "      <td>1.1050</td>\n",
              "      <td>0.2210</td>\n",
              "      <td>0.4366</td>\n",
              "      <td>0.20750</td>\n",
              "    </tr>\n",
              "  </tbody>\n",
              "</table>\n",
              "<p>10 rows × 32 columns</p>\n",
              "</div>\n",
              "      <button class=\"colab-df-convert\" onclick=\"convertToInteractive('df-49a3c0b3-bd6d-41b2-8898-1ff14859d4a8')\"\n",
              "              title=\"Convert this dataframe to an interactive table.\"\n",
              "              style=\"display:none;\">\n",
              "        \n",
              "  <svg xmlns=\"http://www.w3.org/2000/svg\" height=\"24px\"viewBox=\"0 0 24 24\"\n",
              "       width=\"24px\">\n",
              "    <path d=\"M0 0h24v24H0V0z\" fill=\"none\"/>\n",
              "    <path d=\"M18.56 5.44l.94 2.06.94-2.06 2.06-.94-2.06-.94-.94-2.06-.94 2.06-2.06.94zm-11 1L8.5 8.5l.94-2.06 2.06-.94-2.06-.94L8.5 2.5l-.94 2.06-2.06.94zm10 10l.94 2.06.94-2.06 2.06-.94-2.06-.94-.94-2.06-.94 2.06-2.06.94z\"/><path d=\"M17.41 7.96l-1.37-1.37c-.4-.4-.92-.59-1.43-.59-.52 0-1.04.2-1.43.59L10.3 9.45l-7.72 7.72c-.78.78-.78 2.05 0 2.83L4 21.41c.39.39.9.59 1.41.59.51 0 1.02-.2 1.41-.59l7.78-7.78 2.81-2.81c.8-.78.8-2.07 0-2.86zM5.41 20L4 18.59l7.72-7.72 1.47 1.35L5.41 20z\"/>\n",
              "  </svg>\n",
              "      </button>\n",
              "      \n",
              "  <style>\n",
              "    .colab-df-container {\n",
              "      display:flex;\n",
              "      flex-wrap:wrap;\n",
              "      gap: 12px;\n",
              "    }\n",
              "\n",
              "    .colab-df-convert {\n",
              "      background-color: #E8F0FE;\n",
              "      border: none;\n",
              "      border-radius: 50%;\n",
              "      cursor: pointer;\n",
              "      display: none;\n",
              "      fill: #1967D2;\n",
              "      height: 32px;\n",
              "      padding: 0 0 0 0;\n",
              "      width: 32px;\n",
              "    }\n",
              "\n",
              "    .colab-df-convert:hover {\n",
              "      background-color: #E2EBFA;\n",
              "      box-shadow: 0px 1px 2px rgba(60, 64, 67, 0.3), 0px 1px 3px 1px rgba(60, 64, 67, 0.15);\n",
              "      fill: #174EA6;\n",
              "    }\n",
              "\n",
              "    [theme=dark] .colab-df-convert {\n",
              "      background-color: #3B4455;\n",
              "      fill: #D2E3FC;\n",
              "    }\n",
              "\n",
              "    [theme=dark] .colab-df-convert:hover {\n",
              "      background-color: #434B5C;\n",
              "      box-shadow: 0px 1px 3px 1px rgba(0, 0, 0, 0.15);\n",
              "      filter: drop-shadow(0px 1px 2px rgba(0, 0, 0, 0.3));\n",
              "      fill: #FFFFFF;\n",
              "    }\n",
              "  </style>\n",
              "\n",
              "      <script>\n",
              "        const buttonEl =\n",
              "          document.querySelector('#df-49a3c0b3-bd6d-41b2-8898-1ff14859d4a8 button.colab-df-convert');\n",
              "        buttonEl.style.display =\n",
              "          google.colab.kernel.accessAllowed ? 'block' : 'none';\n",
              "\n",
              "        async function convertToInteractive(key) {\n",
              "          const element = document.querySelector('#df-49a3c0b3-bd6d-41b2-8898-1ff14859d4a8');\n",
              "          const dataTable =\n",
              "            await google.colab.kernel.invokeFunction('convertToInteractive',\n",
              "                                                     [key], {});\n",
              "          if (!dataTable) return;\n",
              "\n",
              "          const docLinkHtml = 'Like what you see? Visit the ' +\n",
              "            '<a target=\"_blank\" href=https://colab.research.google.com/notebooks/data_table.ipynb>data table notebook</a>'\n",
              "            + ' to learn more about interactive tables.';\n",
              "          element.innerHTML = '';\n",
              "          dataTable['output_type'] = 'display_data';\n",
              "          await google.colab.output.renderOutput(dataTable, element);\n",
              "          const docLink = document.createElement('div');\n",
              "          docLink.innerHTML = docLinkHtml;\n",
              "          element.appendChild(docLink);\n",
              "        }\n",
              "      </script>\n",
              "    </div>\n",
              "  </div>\n",
              "  "
            ]
          },
          "metadata": {},
          "execution_count": 225
        }
      ]
    },
    {
      "cell_type": "code",
      "source": [
        "# Memberi nama header atribut\n",
        "data.columns = ['id', 'Class', 'fitur 1', 'fitur 2', 'fitur 3', 'fitur 4', 'fitur 5', 'fitur 6', 'fitur 7', 'fitur 8', 'fitur 9', 'fitur 10',\n",
        "             'fitur 11', 'fitur 12', 'fitur 13', 'fitur 14', 'fitur 15', 'fitur 16', 'fitur 17', 'fitur 18', 'fitur 19', 'fitur 20',\n",
        "             'fitur 21', 'fitur 22', 'fitur 23', 'fitur 24', 'fitur 25', 'fitur 26', 'fitur 27', 'fitur 28', 'fitur 29', 'fitur 30' \n",
        "]\n",
        "data.head(5)"
      ],
      "metadata": {
        "colab": {
          "base_uri": "https://localhost:8080/",
          "height": 236
        },
        "id": "nfA57F1ewvo8",
        "outputId": "0ebe4d17-cd67-4058-e62b-c4dc47dcd108"
      },
      "execution_count": null,
      "outputs": [
        {
          "output_type": "execute_result",
          "data": {
            "text/plain": [
              "         id Class  fitur 1  fitur 2  fitur 3  fitur 4  fitur 5  fitur 6  \\\n",
              "0    842302     M    17.99    10.38   122.80   1001.0  0.11840  0.27760   \n",
              "1    842517     M    20.57    17.77   132.90   1326.0  0.08474  0.07864   \n",
              "2  84300903     M    19.69    21.25   130.00   1203.0  0.10960  0.15990   \n",
              "3  84348301     M    11.42    20.38    77.58    386.1  0.14250  0.28390   \n",
              "4  84358402     M    20.29    14.34   135.10   1297.0  0.10030  0.13280   \n",
              "\n",
              "   fitur 7  fitur 8  ...  fitur 21  fitur 22  fitur 23  fitur 24  fitur 25  \\\n",
              "0   0.3001  0.14710  ...     25.38     17.33    184.60    2019.0    0.1622   \n",
              "1   0.0869  0.07017  ...     24.99     23.41    158.80    1956.0    0.1238   \n",
              "2   0.1974  0.12790  ...     23.57     25.53    152.50    1709.0    0.1444   \n",
              "3   0.2414  0.10520  ...     14.91     26.50     98.87     567.7    0.2098   \n",
              "4   0.1980  0.10430  ...     22.54     16.67    152.20    1575.0    0.1374   \n",
              "\n",
              "   fitur 26  fitur 27  fitur 28  fitur 29  fitur 30  \n",
              "0    0.6656    0.7119    0.2654    0.4601   0.11890  \n",
              "1    0.1866    0.2416    0.1860    0.2750   0.08902  \n",
              "2    0.4245    0.4504    0.2430    0.3613   0.08758  \n",
              "3    0.8663    0.6869    0.2575    0.6638   0.17300  \n",
              "4    0.2050    0.4000    0.1625    0.2364   0.07678  \n",
              "\n",
              "[5 rows x 32 columns]"
            ],
            "text/html": [
              "\n",
              "  <div id=\"df-ca763869-1a3b-442a-81f6-fef7a0e50d6f\">\n",
              "    <div class=\"colab-df-container\">\n",
              "      <div>\n",
              "<style scoped>\n",
              "    .dataframe tbody tr th:only-of-type {\n",
              "        vertical-align: middle;\n",
              "    }\n",
              "\n",
              "    .dataframe tbody tr th {\n",
              "        vertical-align: top;\n",
              "    }\n",
              "\n",
              "    .dataframe thead th {\n",
              "        text-align: right;\n",
              "    }\n",
              "</style>\n",
              "<table border=\"1\" class=\"dataframe\">\n",
              "  <thead>\n",
              "    <tr style=\"text-align: right;\">\n",
              "      <th></th>\n",
              "      <th>id</th>\n",
              "      <th>Class</th>\n",
              "      <th>fitur 1</th>\n",
              "      <th>fitur 2</th>\n",
              "      <th>fitur 3</th>\n",
              "      <th>fitur 4</th>\n",
              "      <th>fitur 5</th>\n",
              "      <th>fitur 6</th>\n",
              "      <th>fitur 7</th>\n",
              "      <th>fitur 8</th>\n",
              "      <th>...</th>\n",
              "      <th>fitur 21</th>\n",
              "      <th>fitur 22</th>\n",
              "      <th>fitur 23</th>\n",
              "      <th>fitur 24</th>\n",
              "      <th>fitur 25</th>\n",
              "      <th>fitur 26</th>\n",
              "      <th>fitur 27</th>\n",
              "      <th>fitur 28</th>\n",
              "      <th>fitur 29</th>\n",
              "      <th>fitur 30</th>\n",
              "    </tr>\n",
              "  </thead>\n",
              "  <tbody>\n",
              "    <tr>\n",
              "      <th>0</th>\n",
              "      <td>842302</td>\n",
              "      <td>M</td>\n",
              "      <td>17.99</td>\n",
              "      <td>10.38</td>\n",
              "      <td>122.80</td>\n",
              "      <td>1001.0</td>\n",
              "      <td>0.11840</td>\n",
              "      <td>0.27760</td>\n",
              "      <td>0.3001</td>\n",
              "      <td>0.14710</td>\n",
              "      <td>...</td>\n",
              "      <td>25.38</td>\n",
              "      <td>17.33</td>\n",
              "      <td>184.60</td>\n",
              "      <td>2019.0</td>\n",
              "      <td>0.1622</td>\n",
              "      <td>0.6656</td>\n",
              "      <td>0.7119</td>\n",
              "      <td>0.2654</td>\n",
              "      <td>0.4601</td>\n",
              "      <td>0.11890</td>\n",
              "    </tr>\n",
              "    <tr>\n",
              "      <th>1</th>\n",
              "      <td>842517</td>\n",
              "      <td>M</td>\n",
              "      <td>20.57</td>\n",
              "      <td>17.77</td>\n",
              "      <td>132.90</td>\n",
              "      <td>1326.0</td>\n",
              "      <td>0.08474</td>\n",
              "      <td>0.07864</td>\n",
              "      <td>0.0869</td>\n",
              "      <td>0.07017</td>\n",
              "      <td>...</td>\n",
              "      <td>24.99</td>\n",
              "      <td>23.41</td>\n",
              "      <td>158.80</td>\n",
              "      <td>1956.0</td>\n",
              "      <td>0.1238</td>\n",
              "      <td>0.1866</td>\n",
              "      <td>0.2416</td>\n",
              "      <td>0.1860</td>\n",
              "      <td>0.2750</td>\n",
              "      <td>0.08902</td>\n",
              "    </tr>\n",
              "    <tr>\n",
              "      <th>2</th>\n",
              "      <td>84300903</td>\n",
              "      <td>M</td>\n",
              "      <td>19.69</td>\n",
              "      <td>21.25</td>\n",
              "      <td>130.00</td>\n",
              "      <td>1203.0</td>\n",
              "      <td>0.10960</td>\n",
              "      <td>0.15990</td>\n",
              "      <td>0.1974</td>\n",
              "      <td>0.12790</td>\n",
              "      <td>...</td>\n",
              "      <td>23.57</td>\n",
              "      <td>25.53</td>\n",
              "      <td>152.50</td>\n",
              "      <td>1709.0</td>\n",
              "      <td>0.1444</td>\n",
              "      <td>0.4245</td>\n",
              "      <td>0.4504</td>\n",
              "      <td>0.2430</td>\n",
              "      <td>0.3613</td>\n",
              "      <td>0.08758</td>\n",
              "    </tr>\n",
              "    <tr>\n",
              "      <th>3</th>\n",
              "      <td>84348301</td>\n",
              "      <td>M</td>\n",
              "      <td>11.42</td>\n",
              "      <td>20.38</td>\n",
              "      <td>77.58</td>\n",
              "      <td>386.1</td>\n",
              "      <td>0.14250</td>\n",
              "      <td>0.28390</td>\n",
              "      <td>0.2414</td>\n",
              "      <td>0.10520</td>\n",
              "      <td>...</td>\n",
              "      <td>14.91</td>\n",
              "      <td>26.50</td>\n",
              "      <td>98.87</td>\n",
              "      <td>567.7</td>\n",
              "      <td>0.2098</td>\n",
              "      <td>0.8663</td>\n",
              "      <td>0.6869</td>\n",
              "      <td>0.2575</td>\n",
              "      <td>0.6638</td>\n",
              "      <td>0.17300</td>\n",
              "    </tr>\n",
              "    <tr>\n",
              "      <th>4</th>\n",
              "      <td>84358402</td>\n",
              "      <td>M</td>\n",
              "      <td>20.29</td>\n",
              "      <td>14.34</td>\n",
              "      <td>135.10</td>\n",
              "      <td>1297.0</td>\n",
              "      <td>0.10030</td>\n",
              "      <td>0.13280</td>\n",
              "      <td>0.1980</td>\n",
              "      <td>0.10430</td>\n",
              "      <td>...</td>\n",
              "      <td>22.54</td>\n",
              "      <td>16.67</td>\n",
              "      <td>152.20</td>\n",
              "      <td>1575.0</td>\n",
              "      <td>0.1374</td>\n",
              "      <td>0.2050</td>\n",
              "      <td>0.4000</td>\n",
              "      <td>0.1625</td>\n",
              "      <td>0.2364</td>\n",
              "      <td>0.07678</td>\n",
              "    </tr>\n",
              "  </tbody>\n",
              "</table>\n",
              "<p>5 rows × 32 columns</p>\n",
              "</div>\n",
              "      <button class=\"colab-df-convert\" onclick=\"convertToInteractive('df-ca763869-1a3b-442a-81f6-fef7a0e50d6f')\"\n",
              "              title=\"Convert this dataframe to an interactive table.\"\n",
              "              style=\"display:none;\">\n",
              "        \n",
              "  <svg xmlns=\"http://www.w3.org/2000/svg\" height=\"24px\"viewBox=\"0 0 24 24\"\n",
              "       width=\"24px\">\n",
              "    <path d=\"M0 0h24v24H0V0z\" fill=\"none\"/>\n",
              "    <path d=\"M18.56 5.44l.94 2.06.94-2.06 2.06-.94-2.06-.94-.94-2.06-.94 2.06-2.06.94zm-11 1L8.5 8.5l.94-2.06 2.06-.94-2.06-.94L8.5 2.5l-.94 2.06-2.06.94zm10 10l.94 2.06.94-2.06 2.06-.94-2.06-.94-.94-2.06-.94 2.06-2.06.94z\"/><path d=\"M17.41 7.96l-1.37-1.37c-.4-.4-.92-.59-1.43-.59-.52 0-1.04.2-1.43.59L10.3 9.45l-7.72 7.72c-.78.78-.78 2.05 0 2.83L4 21.41c.39.39.9.59 1.41.59.51 0 1.02-.2 1.41-.59l7.78-7.78 2.81-2.81c.8-.78.8-2.07 0-2.86zM5.41 20L4 18.59l7.72-7.72 1.47 1.35L5.41 20z\"/>\n",
              "  </svg>\n",
              "      </button>\n",
              "      \n",
              "  <style>\n",
              "    .colab-df-container {\n",
              "      display:flex;\n",
              "      flex-wrap:wrap;\n",
              "      gap: 12px;\n",
              "    }\n",
              "\n",
              "    .colab-df-convert {\n",
              "      background-color: #E8F0FE;\n",
              "      border: none;\n",
              "      border-radius: 50%;\n",
              "      cursor: pointer;\n",
              "      display: none;\n",
              "      fill: #1967D2;\n",
              "      height: 32px;\n",
              "      padding: 0 0 0 0;\n",
              "      width: 32px;\n",
              "    }\n",
              "\n",
              "    .colab-df-convert:hover {\n",
              "      background-color: #E2EBFA;\n",
              "      box-shadow: 0px 1px 2px rgba(60, 64, 67, 0.3), 0px 1px 3px 1px rgba(60, 64, 67, 0.15);\n",
              "      fill: #174EA6;\n",
              "    }\n",
              "\n",
              "    [theme=dark] .colab-df-convert {\n",
              "      background-color: #3B4455;\n",
              "      fill: #D2E3FC;\n",
              "    }\n",
              "\n",
              "    [theme=dark] .colab-df-convert:hover {\n",
              "      background-color: #434B5C;\n",
              "      box-shadow: 0px 1px 3px 1px rgba(0, 0, 0, 0.15);\n",
              "      filter: drop-shadow(0px 1px 2px rgba(0, 0, 0, 0.3));\n",
              "      fill: #FFFFFF;\n",
              "    }\n",
              "  </style>\n",
              "\n",
              "      <script>\n",
              "        const buttonEl =\n",
              "          document.querySelector('#df-ca763869-1a3b-442a-81f6-fef7a0e50d6f button.colab-df-convert');\n",
              "        buttonEl.style.display =\n",
              "          google.colab.kernel.accessAllowed ? 'block' : 'none';\n",
              "\n",
              "        async function convertToInteractive(key) {\n",
              "          const element = document.querySelector('#df-ca763869-1a3b-442a-81f6-fef7a0e50d6f');\n",
              "          const dataTable =\n",
              "            await google.colab.kernel.invokeFunction('convertToInteractive',\n",
              "                                                     [key], {});\n",
              "          if (!dataTable) return;\n",
              "\n",
              "          const docLinkHtml = 'Like what you see? Visit the ' +\n",
              "            '<a target=\"_blank\" href=https://colab.research.google.com/notebooks/data_table.ipynb>data table notebook</a>'\n",
              "            + ' to learn more about interactive tables.';\n",
              "          element.innerHTML = '';\n",
              "          dataTable['output_type'] = 'display_data';\n",
              "          await google.colab.output.renderOutput(dataTable, element);\n",
              "          const docLink = document.createElement('div');\n",
              "          docLink.innerHTML = docLinkHtml;\n",
              "          element.appendChild(docLink);\n",
              "        }\n",
              "      </script>\n",
              "    </div>\n",
              "  </div>\n",
              "  "
            ]
          },
          "metadata": {},
          "execution_count": 226
        }
      ]
    },
    {
      "cell_type": "code",
      "source": [
        "data.drop('id', axis=1, inplace=True)\n",
        "data.head()"
      ],
      "metadata": {
        "colab": {
          "base_uri": "https://localhost:8080/",
          "height": 236
        },
        "id": "XwlNQA9zxIts",
        "outputId": "9e8dfd26-80f4-4fbd-caf2-12f40f8e7073"
      },
      "execution_count": null,
      "outputs": [
        {
          "output_type": "execute_result",
          "data": {
            "text/plain": [
              "  Class  fitur 1  fitur 2  fitur 3  fitur 4  fitur 5  fitur 6  fitur 7  \\\n",
              "0     M    17.99    10.38   122.80   1001.0  0.11840  0.27760   0.3001   \n",
              "1     M    20.57    17.77   132.90   1326.0  0.08474  0.07864   0.0869   \n",
              "2     M    19.69    21.25   130.00   1203.0  0.10960  0.15990   0.1974   \n",
              "3     M    11.42    20.38    77.58    386.1  0.14250  0.28390   0.2414   \n",
              "4     M    20.29    14.34   135.10   1297.0  0.10030  0.13280   0.1980   \n",
              "\n",
              "   fitur 8  fitur 9  ...  fitur 21  fitur 22  fitur 23  fitur 24  fitur 25  \\\n",
              "0  0.14710   0.2419  ...     25.38     17.33    184.60    2019.0    0.1622   \n",
              "1  0.07017   0.1812  ...     24.99     23.41    158.80    1956.0    0.1238   \n",
              "2  0.12790   0.2069  ...     23.57     25.53    152.50    1709.0    0.1444   \n",
              "3  0.10520   0.2597  ...     14.91     26.50     98.87     567.7    0.2098   \n",
              "4  0.10430   0.1809  ...     22.54     16.67    152.20    1575.0    0.1374   \n",
              "\n",
              "   fitur 26  fitur 27  fitur 28  fitur 29  fitur 30  \n",
              "0    0.6656    0.7119    0.2654    0.4601   0.11890  \n",
              "1    0.1866    0.2416    0.1860    0.2750   0.08902  \n",
              "2    0.4245    0.4504    0.2430    0.3613   0.08758  \n",
              "3    0.8663    0.6869    0.2575    0.6638   0.17300  \n",
              "4    0.2050    0.4000    0.1625    0.2364   0.07678  \n",
              "\n",
              "[5 rows x 31 columns]"
            ],
            "text/html": [
              "\n",
              "  <div id=\"df-e8ac49fc-e219-4c7f-b86c-af693d910845\">\n",
              "    <div class=\"colab-df-container\">\n",
              "      <div>\n",
              "<style scoped>\n",
              "    .dataframe tbody tr th:only-of-type {\n",
              "        vertical-align: middle;\n",
              "    }\n",
              "\n",
              "    .dataframe tbody tr th {\n",
              "        vertical-align: top;\n",
              "    }\n",
              "\n",
              "    .dataframe thead th {\n",
              "        text-align: right;\n",
              "    }\n",
              "</style>\n",
              "<table border=\"1\" class=\"dataframe\">\n",
              "  <thead>\n",
              "    <tr style=\"text-align: right;\">\n",
              "      <th></th>\n",
              "      <th>Class</th>\n",
              "      <th>fitur 1</th>\n",
              "      <th>fitur 2</th>\n",
              "      <th>fitur 3</th>\n",
              "      <th>fitur 4</th>\n",
              "      <th>fitur 5</th>\n",
              "      <th>fitur 6</th>\n",
              "      <th>fitur 7</th>\n",
              "      <th>fitur 8</th>\n",
              "      <th>fitur 9</th>\n",
              "      <th>...</th>\n",
              "      <th>fitur 21</th>\n",
              "      <th>fitur 22</th>\n",
              "      <th>fitur 23</th>\n",
              "      <th>fitur 24</th>\n",
              "      <th>fitur 25</th>\n",
              "      <th>fitur 26</th>\n",
              "      <th>fitur 27</th>\n",
              "      <th>fitur 28</th>\n",
              "      <th>fitur 29</th>\n",
              "      <th>fitur 30</th>\n",
              "    </tr>\n",
              "  </thead>\n",
              "  <tbody>\n",
              "    <tr>\n",
              "      <th>0</th>\n",
              "      <td>M</td>\n",
              "      <td>17.99</td>\n",
              "      <td>10.38</td>\n",
              "      <td>122.80</td>\n",
              "      <td>1001.0</td>\n",
              "      <td>0.11840</td>\n",
              "      <td>0.27760</td>\n",
              "      <td>0.3001</td>\n",
              "      <td>0.14710</td>\n",
              "      <td>0.2419</td>\n",
              "      <td>...</td>\n",
              "      <td>25.38</td>\n",
              "      <td>17.33</td>\n",
              "      <td>184.60</td>\n",
              "      <td>2019.0</td>\n",
              "      <td>0.1622</td>\n",
              "      <td>0.6656</td>\n",
              "      <td>0.7119</td>\n",
              "      <td>0.2654</td>\n",
              "      <td>0.4601</td>\n",
              "      <td>0.11890</td>\n",
              "    </tr>\n",
              "    <tr>\n",
              "      <th>1</th>\n",
              "      <td>M</td>\n",
              "      <td>20.57</td>\n",
              "      <td>17.77</td>\n",
              "      <td>132.90</td>\n",
              "      <td>1326.0</td>\n",
              "      <td>0.08474</td>\n",
              "      <td>0.07864</td>\n",
              "      <td>0.0869</td>\n",
              "      <td>0.07017</td>\n",
              "      <td>0.1812</td>\n",
              "      <td>...</td>\n",
              "      <td>24.99</td>\n",
              "      <td>23.41</td>\n",
              "      <td>158.80</td>\n",
              "      <td>1956.0</td>\n",
              "      <td>0.1238</td>\n",
              "      <td>0.1866</td>\n",
              "      <td>0.2416</td>\n",
              "      <td>0.1860</td>\n",
              "      <td>0.2750</td>\n",
              "      <td>0.08902</td>\n",
              "    </tr>\n",
              "    <tr>\n",
              "      <th>2</th>\n",
              "      <td>M</td>\n",
              "      <td>19.69</td>\n",
              "      <td>21.25</td>\n",
              "      <td>130.00</td>\n",
              "      <td>1203.0</td>\n",
              "      <td>0.10960</td>\n",
              "      <td>0.15990</td>\n",
              "      <td>0.1974</td>\n",
              "      <td>0.12790</td>\n",
              "      <td>0.2069</td>\n",
              "      <td>...</td>\n",
              "      <td>23.57</td>\n",
              "      <td>25.53</td>\n",
              "      <td>152.50</td>\n",
              "      <td>1709.0</td>\n",
              "      <td>0.1444</td>\n",
              "      <td>0.4245</td>\n",
              "      <td>0.4504</td>\n",
              "      <td>0.2430</td>\n",
              "      <td>0.3613</td>\n",
              "      <td>0.08758</td>\n",
              "    </tr>\n",
              "    <tr>\n",
              "      <th>3</th>\n",
              "      <td>M</td>\n",
              "      <td>11.42</td>\n",
              "      <td>20.38</td>\n",
              "      <td>77.58</td>\n",
              "      <td>386.1</td>\n",
              "      <td>0.14250</td>\n",
              "      <td>0.28390</td>\n",
              "      <td>0.2414</td>\n",
              "      <td>0.10520</td>\n",
              "      <td>0.2597</td>\n",
              "      <td>...</td>\n",
              "      <td>14.91</td>\n",
              "      <td>26.50</td>\n",
              "      <td>98.87</td>\n",
              "      <td>567.7</td>\n",
              "      <td>0.2098</td>\n",
              "      <td>0.8663</td>\n",
              "      <td>0.6869</td>\n",
              "      <td>0.2575</td>\n",
              "      <td>0.6638</td>\n",
              "      <td>0.17300</td>\n",
              "    </tr>\n",
              "    <tr>\n",
              "      <th>4</th>\n",
              "      <td>M</td>\n",
              "      <td>20.29</td>\n",
              "      <td>14.34</td>\n",
              "      <td>135.10</td>\n",
              "      <td>1297.0</td>\n",
              "      <td>0.10030</td>\n",
              "      <td>0.13280</td>\n",
              "      <td>0.1980</td>\n",
              "      <td>0.10430</td>\n",
              "      <td>0.1809</td>\n",
              "      <td>...</td>\n",
              "      <td>22.54</td>\n",
              "      <td>16.67</td>\n",
              "      <td>152.20</td>\n",
              "      <td>1575.0</td>\n",
              "      <td>0.1374</td>\n",
              "      <td>0.2050</td>\n",
              "      <td>0.4000</td>\n",
              "      <td>0.1625</td>\n",
              "      <td>0.2364</td>\n",
              "      <td>0.07678</td>\n",
              "    </tr>\n",
              "  </tbody>\n",
              "</table>\n",
              "<p>5 rows × 31 columns</p>\n",
              "</div>\n",
              "      <button class=\"colab-df-convert\" onclick=\"convertToInteractive('df-e8ac49fc-e219-4c7f-b86c-af693d910845')\"\n",
              "              title=\"Convert this dataframe to an interactive table.\"\n",
              "              style=\"display:none;\">\n",
              "        \n",
              "  <svg xmlns=\"http://www.w3.org/2000/svg\" height=\"24px\"viewBox=\"0 0 24 24\"\n",
              "       width=\"24px\">\n",
              "    <path d=\"M0 0h24v24H0V0z\" fill=\"none\"/>\n",
              "    <path d=\"M18.56 5.44l.94 2.06.94-2.06 2.06-.94-2.06-.94-.94-2.06-.94 2.06-2.06.94zm-11 1L8.5 8.5l.94-2.06 2.06-.94-2.06-.94L8.5 2.5l-.94 2.06-2.06.94zm10 10l.94 2.06.94-2.06 2.06-.94-2.06-.94-.94-2.06-.94 2.06-2.06.94z\"/><path d=\"M17.41 7.96l-1.37-1.37c-.4-.4-.92-.59-1.43-.59-.52 0-1.04.2-1.43.59L10.3 9.45l-7.72 7.72c-.78.78-.78 2.05 0 2.83L4 21.41c.39.39.9.59 1.41.59.51 0 1.02-.2 1.41-.59l7.78-7.78 2.81-2.81c.8-.78.8-2.07 0-2.86zM5.41 20L4 18.59l7.72-7.72 1.47 1.35L5.41 20z\"/>\n",
              "  </svg>\n",
              "      </button>\n",
              "      \n",
              "  <style>\n",
              "    .colab-df-container {\n",
              "      display:flex;\n",
              "      flex-wrap:wrap;\n",
              "      gap: 12px;\n",
              "    }\n",
              "\n",
              "    .colab-df-convert {\n",
              "      background-color: #E8F0FE;\n",
              "      border: none;\n",
              "      border-radius: 50%;\n",
              "      cursor: pointer;\n",
              "      display: none;\n",
              "      fill: #1967D2;\n",
              "      height: 32px;\n",
              "      padding: 0 0 0 0;\n",
              "      width: 32px;\n",
              "    }\n",
              "\n",
              "    .colab-df-convert:hover {\n",
              "      background-color: #E2EBFA;\n",
              "      box-shadow: 0px 1px 2px rgba(60, 64, 67, 0.3), 0px 1px 3px 1px rgba(60, 64, 67, 0.15);\n",
              "      fill: #174EA6;\n",
              "    }\n",
              "\n",
              "    [theme=dark] .colab-df-convert {\n",
              "      background-color: #3B4455;\n",
              "      fill: #D2E3FC;\n",
              "    }\n",
              "\n",
              "    [theme=dark] .colab-df-convert:hover {\n",
              "      background-color: #434B5C;\n",
              "      box-shadow: 0px 1px 3px 1px rgba(0, 0, 0, 0.15);\n",
              "      filter: drop-shadow(0px 1px 2px rgba(0, 0, 0, 0.3));\n",
              "      fill: #FFFFFF;\n",
              "    }\n",
              "  </style>\n",
              "\n",
              "      <script>\n",
              "        const buttonEl =\n",
              "          document.querySelector('#df-e8ac49fc-e219-4c7f-b86c-af693d910845 button.colab-df-convert');\n",
              "        buttonEl.style.display =\n",
              "          google.colab.kernel.accessAllowed ? 'block' : 'none';\n",
              "\n",
              "        async function convertToInteractive(key) {\n",
              "          const element = document.querySelector('#df-e8ac49fc-e219-4c7f-b86c-af693d910845');\n",
              "          const dataTable =\n",
              "            await google.colab.kernel.invokeFunction('convertToInteractive',\n",
              "                                                     [key], {});\n",
              "          if (!dataTable) return;\n",
              "\n",
              "          const docLinkHtml = 'Like what you see? Visit the ' +\n",
              "            '<a target=\"_blank\" href=https://colab.research.google.com/notebooks/data_table.ipynb>data table notebook</a>'\n",
              "            + ' to learn more about interactive tables.';\n",
              "          element.innerHTML = '';\n",
              "          dataTable['output_type'] = 'display_data';\n",
              "          await google.colab.output.renderOutput(dataTable, element);\n",
              "          const docLink = document.createElement('div');\n",
              "          docLink.innerHTML = docLinkHtml;\n",
              "          element.appendChild(docLink);\n",
              "        }\n",
              "      </script>\n",
              "    </div>\n",
              "  </div>\n",
              "  "
            ]
          },
          "metadata": {},
          "execution_count": 227
        }
      ]
    },
    {
      "cell_type": "code",
      "source": [
        "# Menganalisa tipe dan relasi data\n",
        "#  Melihat tipe dataset\n",
        "type(data)"
      ],
      "metadata": {
        "colab": {
          "base_uri": "https://localhost:8080/"
        },
        "id": "ymCX35xcrBt3",
        "outputId": "f60d3c86-5ad0-4424-94c2-3b144c11aebc"
      },
      "execution_count": null,
      "outputs": [
        {
          "output_type": "execute_result",
          "data": {
            "text/plain": [
              "pandas.core.frame.DataFrame"
            ]
          },
          "metadata": {},
          "execution_count": 228
        }
      ]
    },
    {
      "cell_type": "code",
      "source": [
        "# Melihat ukuran dataset\n",
        "data.shape"
      ],
      "metadata": {
        "colab": {
          "base_uri": "https://localhost:8080/"
        },
        "id": "seR3MOWcrGq-",
        "outputId": "34158523-4c19-41f4-a46e-ec16aaf8969e"
      },
      "execution_count": null,
      "outputs": [
        {
          "output_type": "execute_result",
          "data": {
            "text/plain": [
              "(569, 31)"
            ]
          },
          "metadata": {},
          "execution_count": 229
        }
      ]
    },
    {
      "cell_type": "code",
      "source": [
        "# Melihat informasi tipe data semua kolom\n",
        "data.info()"
      ],
      "metadata": {
        "colab": {
          "base_uri": "https://localhost:8080/"
        },
        "id": "iGlnfWT2xQXE",
        "outputId": "ef596c03-d838-4ff5-aa94-233692eb4e17"
      },
      "execution_count": null,
      "outputs": [
        {
          "output_type": "stream",
          "name": "stdout",
          "text": [
            "<class 'pandas.core.frame.DataFrame'>\n",
            "RangeIndex: 569 entries, 0 to 568\n",
            "Data columns (total 31 columns):\n",
            " #   Column    Non-Null Count  Dtype  \n",
            "---  ------    --------------  -----  \n",
            " 0   Class     569 non-null    object \n",
            " 1   fitur 1   569 non-null    float64\n",
            " 2   fitur 2   569 non-null    float64\n",
            " 3   fitur 3   569 non-null    float64\n",
            " 4   fitur 4   569 non-null    float64\n",
            " 5   fitur 5   569 non-null    float64\n",
            " 6   fitur 6   569 non-null    float64\n",
            " 7   fitur 7   569 non-null    float64\n",
            " 8   fitur 8   569 non-null    float64\n",
            " 9   fitur 9   569 non-null    float64\n",
            " 10  fitur 10  569 non-null    float64\n",
            " 11  fitur 11  569 non-null    float64\n",
            " 12  fitur 12  569 non-null    float64\n",
            " 13  fitur 13  569 non-null    float64\n",
            " 14  fitur 14  569 non-null    float64\n",
            " 15  fitur 15  569 non-null    float64\n",
            " 16  fitur 16  569 non-null    float64\n",
            " 17  fitur 17  569 non-null    float64\n",
            " 18  fitur 18  569 non-null    float64\n",
            " 19  fitur 19  569 non-null    float64\n",
            " 20  fitur 20  569 non-null    float64\n",
            " 21  fitur 21  569 non-null    float64\n",
            " 22  fitur 22  569 non-null    float64\n",
            " 23  fitur 23  569 non-null    float64\n",
            " 24  fitur 24  569 non-null    float64\n",
            " 25  fitur 25  569 non-null    float64\n",
            " 26  fitur 26  569 non-null    float64\n",
            " 27  fitur 27  569 non-null    float64\n",
            " 28  fitur 28  569 non-null    float64\n",
            " 29  fitur 29  569 non-null    float64\n",
            " 30  fitur 30  569 non-null    float64\n",
            "dtypes: float64(30), object(1)\n",
            "memory usage: 137.9+ KB\n"
          ]
        }
      ]
    },
    {
      "cell_type": "code",
      "source": [
        "# Melihat distribusi Class (apa saja jenisnya)\n",
        "data['Class'].unique()"
      ],
      "metadata": {
        "colab": {
          "base_uri": "https://localhost:8080/"
        },
        "id": "50k4ByHmxTbU",
        "outputId": "53a3b0a6-effa-4e23-d07b-aeb956b7dfe1"
      },
      "execution_count": null,
      "outputs": [
        {
          "output_type": "execute_result",
          "data": {
            "text/plain": [
              "array(['M', 'B'], dtype=object)"
            ]
          },
          "metadata": {},
          "execution_count": 231
        }
      ]
    },
    {
      "cell_type": "code",
      "source": [
        "# Melihat distribusi Class (jumlahnya tiap class)\n",
        "data['Class'].value_counts()"
      ],
      "metadata": {
        "colab": {
          "base_uri": "https://localhost:8080/"
        },
        "id": "6Vt7O1hVxWRU",
        "outputId": "c5dc7c21-49b1-4069-e6e1-6cccc356f213"
      },
      "execution_count": null,
      "outputs": [
        {
          "output_type": "execute_result",
          "data": {
            "text/plain": [
              "B    357\n",
              "M    212\n",
              "Name: Class, dtype: int64"
            ]
          },
          "metadata": {},
          "execution_count": 232
        }
      ]
    },
    {
      "cell_type": "code",
      "source": [
        "# Melihat distribusi Class (Visualisasi diagram)\n",
        "sns.set(font_scale=1.4)\n",
        "data['Class'].value_counts().plot(kind='bar', figsize=(7,6), rot=0)\n",
        "plt.xlabel(\"Tipe Penyakit Kanker Payudara\", labelpad=14)\n",
        "plt.ylabel(\"Jumlah\", labelpad=14)\n",
        "plt.title(\"Distribusi Penderita Penyakit Kanker Payudara\", y=1.02)"
      ],
      "metadata": {
        "colab": {
          "base_uri": "https://localhost:8080/",
          "height": 457
        },
        "id": "UrrnE_8axaR8",
        "outputId": "d210e186-cc69-4272-cea4-3eeb0269b888"
      },
      "execution_count": null,
      "outputs": [
        {
          "output_type": "execute_result",
          "data": {
            "text/plain": [
              "Text(0.5, 1.02, 'Distribusi Penderita Penyakit Kanker Payudara')"
            ]
          },
          "metadata": {},
          "execution_count": 233
        },
        {
          "output_type": "display_data",
          "data": {
            "text/plain": [
              "<Figure size 504x432 with 1 Axes>"
            ],
            "image/png": "[encoded data removed]"
          },
          "metadata": {}
        }
      ]
    },
    {
      "cell_type": "code",
      "source": [
        "# Melihat deskripsi dataset\n",
        "data.describe()"
      ],
      "metadata": {
        "colab": {
          "base_uri": "https://localhost:8080/",
          "height": 394
        },
        "id": "4JzN03Rps_gN",
        "outputId": "1ff488de-cac8-4e4b-8d20-d7dcf3f7883c"
      },
      "execution_count": null,
      "outputs": [
        {
          "output_type": "execute_result",
          "data": {
            "text/plain": [
              "          fitur 1     fitur 2     fitur 3      fitur 4     fitur 5  \\\n",
              "count  569.000000  569.000000  569.000000   569.000000  569.000000   \n",
              "mean    14.127292   19.289649   91.969033   654.889104    0.096360   \n",
              "std      3.524049    4.301036   24.298981   351.914129    0.014064   \n",
              "min      6.981000    9.710000   43.790000   143.500000    0.052630   \n",
              "25%     11.700000   16.170000   75.170000   420.300000    0.086370   \n",
              "50%     13.370000   18.840000   86.240000   551.100000    0.095870   \n",
              "75%     15.780000   21.800000  104.100000   782.700000    0.105300   \n",
              "max     28.110000   39.280000  188.500000  2501.000000    0.163400   \n",
              "\n",
              "          fitur 6     fitur 7     fitur 8     fitur 9    fitur 10  ...  \\\n",
              "count  569.000000  569.000000  569.000000  569.000000  569.000000  ...   \n",
              "mean     0.104341    0.088799    0.048919    0.181162    0.062798  ...   \n",
              "std      0.052813    0.079720    0.038803    0.027414    0.007060  ...   \n",
              "min      0.019380    0.000000    0.000000    0.106000    0.049960  ...   \n",
              "25%      0.064920    0.029560    0.020310    0.161900    0.057700  ...   \n",
              "50%      0.092630    0.061540    0.033500    0.179200    0.061540  ...   \n",
              "75%      0.130400    0.130700    0.074000    0.195700    0.066120  ...   \n",
              "max      0.345400    0.426800    0.201200    0.304000    0.097440  ...   \n",
              "\n",
              "         fitur 21    fitur 22    fitur 23     fitur 24    fitur 25  \\\n",
              "count  569.000000  569.000000  569.000000   569.000000  569.000000   \n",
              "mean    16.269190   25.677223  107.261213   880.583128    0.132369   \n",
              "std      4.833242    6.146258   33.602542   569.356993    0.022832   \n",
              "min      7.930000   12.020000   50.410000   185.200000    0.071170   \n",
              "25%     13.010000   21.080000   84.110000   515.300000    0.116600   \n",
              "50%     14.970000   25.410000   97.660000   686.500000    0.131300   \n",
              "75%     18.790000   29.720000  125.400000  1084.000000    0.146000   \n",
              "max     36.040000   49.540000  251.200000  4254.000000    0.222600   \n",
              "\n",
              "         fitur 26    fitur 27    fitur 28    fitur 29    fitur 30  \n",
              "count  569.000000  569.000000  569.000000  569.000000  569.000000  \n",
              "mean     0.254265    0.272188    0.114606    0.290076    0.083946  \n",
              "std      0.157336    0.208624    0.065732    0.061867    0.018061  \n",
              "min      0.027290    0.000000    0.000000    0.156500    0.055040  \n",
              "25%      0.147200    0.114500    0.064930    0.250400    0.071460  \n",
              "50%      0.211900    0.226700    0.099930    0.282200    0.080040  \n",
              "75%      0.339100    0.382900    0.161400    0.317900    0.092080  \n",
              "max      1.058000    1.252000    0.291000    0.663800    0.207500  \n",
              "\n",
              "[8 rows x 30 columns]"
            ],
            "text/html": [
              "\n",
              "  <div id=\"df-a83240ac-6854-4f71-9a5c-43cf3fde9135\">\n",
              "    <div class=\"colab-df-container\">\n",
              "      <div>\n",
              "<style scoped>\n",
              "    .dataframe tbody tr th:only-of-type {\n",
              "        vertical-align: middle;\n",
              "    }\n",
              "\n",
              "    .dataframe tbody tr th {\n",
              "        vertical-align: top;\n",
              "    }\n",
              "\n",
              "    .dataframe thead th {\n",
              "        text-align: right;\n",
              "    }\n",
              "</style>\n",
              "<table border=\"1\" class=\"dataframe\">\n",
              "  <thead>\n",
              "    <tr style=\"text-align: right;\">\n",
              "      <th></th>\n",
              "      <th>fitur 1</th>\n",
              "      <th>fitur 2</th>\n",
              "      <th>fitur 3</th>\n",
              "      <th>fitur 4</th>\n",
              "      <th>fitur 5</th>\n",
              "      <th>fitur 6</th>\n",
              "      <th>fitur 7</th>\n",
              "      <th>fitur 8</th>\n",
              "      <th>fitur 9</th>\n",
              "      <th>fitur 10</th>\n",
              "      <th>...</th>\n",
              "      <th>fitur 21</th>\n",
              "      <th>fitur 22</th>\n",
              "      <th>fitur 23</th>\n",
              "      <th>fitur 24</th>\n",
              "      <th>fitur 25</th>\n",
              "      <th>fitur 26</th>\n",
              "      <th>fitur 27</th>\n",
              "      <th>fitur 28</th>\n",
              "      <th>fitur 29</th>\n",
              "      <th>fitur 30</th>\n",
              "    </tr>\n",
              "  </thead>\n",
              "  <tbody>\n",
              "    <tr>\n",
              "      <th>count</th>\n",
              "      <td>569.000000</td>\n",
              "      <td>569.000000</td>\n",
              "      <td>569.000000</td>\n",
              "      <td>569.000000</td>\n",
              "      <td>569.000000</td>\n",
              "      <td>569.000000</td>\n",
              "      <td>569.000000</td>\n",
              "      <td>569.000000</td>\n",
              "      <td>569.000000</td>\n",
              "      <td>569.000000</td>\n",
              "      <td>...</td>\n",
              "      <td>569.000000</td>\n",
              "      <td>569.000000</td>\n",
              "      <td>569.000000</td>\n",
              "      <td>569.000000</td>\n",
              "      <td>569.000000</td>\n",
              "      <td>569.000000</td>\n",
              "      <td>569.000000</td>\n",
              "      <td>569.000000</td>\n",
              "      <td>569.000000</td>\n",
              "      <td>569.000000</td>\n",
              "    </tr>\n",
              "    <tr>\n",
              "      <th>mean</th>\n",
              "      <td>14.127292</td>\n",
              "      <td>19.289649</td>\n",
              "      <td>91.969033</td>\n",
              "      <td>654.889104</td>\n",
              "      <td>0.096360</td>\n",
              "      <td>0.104341</td>\n",
              "      <td>0.088799</td>\n",
              "      <td>0.048919</td>\n",
              "      <td>0.181162</td>\n",
              "      <td>0.062798</td>\n",
              "      <td>...</td>\n",
              "      <td>16.269190</td>\n",
              "      <td>25.677223</td>\n",
              "      <td>107.261213</td>\n",
              "      <td>880.583128</td>\n",
              "      <td>0.132369</td>\n",
              "      <td>0.254265</td>\n",
              "      <td>0.272188</td>\n",
              "      <td>0.114606</td>\n",
              "      <td>0.290076</td>\n",
              "      <td>0.083946</td>\n",
              "    </tr>\n",
              "    <tr>\n",
              "      <th>std</th>\n",
              "      <td>3.524049</td>\n",
              "      <td>4.301036</td>\n",
              "      <td>24.298981</td>\n",
              "      <td>351.914129</td>\n",
              "      <td>0.014064</td>\n",
              "      <td>0.052813</td>\n",
              "      <td>0.079720</td>\n",
              "      <td>0.038803</td>\n",
              "      <td>0.027414</td>\n",
              "      <td>0.007060</td>\n",
              "      <td>...</td>\n",
              "      <td>4.833242</td>\n",
              "      <td>6.146258</td>\n",
              "      <td>33.602542</td>\n",
              "      <td>569.356993</td>\n",
              "      <td>0.022832</td>\n",
              "      <td>0.157336</td>\n",
              "      <td>0.208624</td>\n",
              "      <td>0.065732</td>\n",
              "      <td>0.061867</td>\n",
              "      <td>0.018061</td>\n",
              "    </tr>\n",
              "    <tr>\n",
              "      <th>min</th>\n",
              "      <td>6.981000</td>\n",
              "      <td>9.710000</td>\n",
              "      <td>43.790000</td>\n",
              "      <td>143.500000</td>\n",
              "      <td>0.052630</td>\n",
              "      <td>0.019380</td>\n",
              "      <td>0.000000</td>\n",
              "      <td>0.000000</td>\n",
              "      <td>0.106000</td>\n",
              "      <td>0.049960</td>\n",
              "      <td>...</td>\n",
              "      <td>7.930000</td>\n",
              "      <td>12.020000</td>\n",
              "      <td>50.410000</td>\n",
              "      <td>185.200000</td>\n",
              "      <td>0.071170</td>\n",
              "      <td>0.027290</td>\n",
              "      <td>0.000000</td>\n",
              "      <td>0.000000</td>\n",
              "      <td>0.156500</td>\n",
              "      <td>0.055040</td>\n",
              "    </tr>\n",
              "    <tr>\n",
              "      <th>25%</th>\n",
              "      <td>11.700000</td>\n",
              "      <td>16.170000</td>\n",
              "      <td>75.170000</td>\n",
              "      <td>420.300000</td>\n",
              "      <td>0.086370</td>\n",
              "      <td>0.064920</td>\n",
              "      <td>0.029560</td>\n",
              "      <td>0.020310</td>\n",
              "      <td>0.161900</td>\n",
              "      <td>0.057700</td>\n",
              "      <td>...</td>\n",
              "      <td>13.010000</td>\n",
              "      <td>21.080000</td>\n",
              "      <td>84.110000</td>\n",
              "      <td>515.300000</td>\n",
              "      <td>0.116600</td>\n",
              "      <td>0.147200</td>\n",
              "      <td>0.114500</td>\n",
              "      <td>0.064930</td>\n",
              "      <td>0.250400</td>\n",
              "      <td>0.071460</td>\n",
              "    </tr>\n",
              "    <tr>\n",
              "      <th>50%</th>\n",
              "      <td>13.370000</td>\n",
              "      <td>18.840000</td>\n",
              "      <td>86.240000</td>\n",
              "      <td>551.100000</td>\n",
              "      <td>0.095870</td>\n",
              "      <td>0.092630</td>\n",
              "      <td>0.061540</td>\n",
              "      <td>0.033500</td>\n",
              "      <td>0.179200</td>\n",
              "      <td>0.061540</td>\n",
              "      <td>...</td>\n",
              "      <td>14.970000</td>\n",
              "      <td>25.410000</td>\n",
              "      <td>97.660000</td>\n",
              "      <td>686.500000</td>\n",
              "      <td>0.131300</td>\n",
              "      <td>0.211900</td>\n",
              "      <td>0.226700</td>\n",
              "      <td>0.099930</td>\n",
              "      <td>0.282200</td>\n",
              "      <td>0.080040</td>\n",
              "    </tr>\n",
              "    <tr>\n",
              "      <th>75%</th>\n",
              "      <td>15.780000</td>\n",
              "      <td>21.800000</td>\n",
              "      <td>104.100000</td>\n",
              "      <td>782.700000</td>\n",
              "      <td>0.105300</td>\n",
              "      <td>0.130400</td>\n",
              "      <td>0.130700</td>\n",
              "      <td>0.074000</td>\n",
              "      <td>0.195700</td>\n",
              "      <td>0.066120</td>\n",
              "      <td>...</td>\n",
              "      <td>18.790000</td>\n",
              "      <td>29.720000</td>\n",
              "      <td>125.400000</td>\n",
              "      <td>1084.000000</td>\n",
              "      <td>0.146000</td>\n",
              "      <td>0.339100</td>\n",
              "      <td>0.382900</td>\n",
              "      <td>0.161400</td>\n",
              "      <td>0.317900</td>\n",
              "      <td>0.092080</td>\n",
              "    </tr>\n",
              "    <tr>\n",
              "      <th>max</th>\n",
              "      <td>28.110000</td>\n",
              "      <td>39.280000</td>\n",
              "      <td>188.500000</td>\n",
              "      <td>2501.000000</td>\n",
              "      <td>0.163400</td>\n",
              "      <td>0.345400</td>\n",
              "      <td>0.426800</td>\n",
              "      <td>0.201200</td>\n",
              "      <td>0.304000</td>\n",
              "      <td>0.097440</td>\n",
              "      <td>...</td>\n",
              "      <td>36.040000</td>\n",
              "      <td>49.540000</td>\n",
              "      <td>251.200000</td>\n",
              "      <td>4254.000000</td>\n",
              "      <td>0.222600</td>\n",
              "      <td>1.058000</td>\n",
              "      <td>1.252000</td>\n",
              "      <td>0.291000</td>\n",
              "      <td>0.663800</td>\n",
              "      <td>0.207500</td>\n",
              "    </tr>\n",
              "  </tbody>\n",
              "</table>\n",
              "<p>8 rows × 30 columns</p>\n",
              "</div>\n",
              "      <button class=\"colab-df-convert\" onclick=\"convertToInteractive('df-a83240ac-6854-4f71-9a5c-43cf3fde9135')\"\n",
              "              title=\"Convert this dataframe to an interactive table.\"\n",
              "              style=\"display:none;\">\n",
              "        \n",
              "  <svg xmlns=\"http://www.w3.org/2000/svg\" height=\"24px\"viewBox=\"0 0 24 24\"\n",
              "       width=\"24px\">\n",
              "    <path d=\"M0 0h24v24H0V0z\" fill=\"none\"/>\n",
              "    <path d=\"M18.56 5.44l.94 2.06.94-2.06 2.06-.94-2.06-.94-.94-2.06-.94 2.06-2.06.94zm-11 1L8.5 8.5l.94-2.06 2.06-.94-2.06-.94L8.5 2.5l-.94 2.06-2.06.94zm10 10l.94 2.06.94-2.06 2.06-.94-2.06-.94-.94-2.06-.94 2.06-2.06.94z\"/><path d=\"M17.41 7.96l-1.37-1.37c-.4-.4-.92-.59-1.43-.59-.52 0-1.04.2-1.43.59L10.3 9.45l-7.72 7.72c-.78.78-.78 2.05 0 2.83L4 21.41c.39.39.9.59 1.41.59.51 0 1.02-.2 1.41-.59l7.78-7.78 2.81-2.81c.8-.78.8-2.07 0-2.86zM5.41 20L4 18.59l7.72-7.72 1.47 1.35L5.41 20z\"/>\n",
              "  </svg>\n",
              "      </button>\n",
              "      \n",
              "  <style>\n",
              "    .colab-df-container {\n",
              "      display:flex;\n",
              "      flex-wrap:wrap;\n",
              "      gap: 12px;\n",
              "    }\n",
              "\n",
              "    .colab-df-convert {\n",
              "      background-color: #E8F0FE;\n",
              "      border: none;\n",
              "      border-radius: 50%;\n",
              "      cursor: pointer;\n",
              "      display: none;\n",
              "      fill: #1967D2;\n",
              "      height: 32px;\n",
              "      padding: 0 0 0 0;\n",
              "      width: 32px;\n",
              "    }\n",
              "\n",
              "    .colab-df-convert:hover {\n",
              "      background-color: #E2EBFA;\n",
              "      box-shadow: 0px 1px 2px rgba(60, 64, 67, 0.3), 0px 1px 3px 1px rgba(60, 64, 67, 0.15);\n",
              "      fill: #174EA6;\n",
              "    }\n",
              "\n",
              "    [theme=dark] .colab-df-convert {\n",
              "      background-color: #3B4455;\n",
              "      fill: #D2E3FC;\n",
              "    }\n",
              "\n",
              "    [theme=dark] .colab-df-convert:hover {\n",
              "      background-color: #434B5C;\n",
              "      box-shadow: 0px 1px 3px 1px rgba(0, 0, 0, 0.15);\n",
              "      filter: drop-shadow(0px 1px 2px rgba(0, 0, 0, 0.3));\n",
              "      fill: #FFFFFF;\n",
              "    }\n",
              "  </style>\n",
              "\n",
              "      <script>\n",
              "        const buttonEl =\n",
              "          document.querySelector('#df-a83240ac-6854-4f71-9a5c-43cf3fde9135 button.colab-df-convert');\n",
              "        buttonEl.style.display =\n",
              "          google.colab.kernel.accessAllowed ? 'block' : 'none';\n",
              "\n",
              "        async function convertToInteractive(key) {\n",
              "          const element = document.querySelector('#df-a83240ac-6854-4f71-9a5c-43cf3fde9135');\n",
              "          const dataTable =\n",
              "            await google.colab.kernel.invokeFunction('convertToInteractive',\n",
              "                                                     [key], {});\n",
              "          if (!dataTable) return;\n",
              "\n",
              "          const docLinkHtml = 'Like what you see? Visit the ' +\n",
              "            '<a target=\"_blank\" href=https://colab.research.google.com/notebooks/data_table.ipynb>data table notebook</a>'\n",
              "            + ' to learn more about interactive tables.';\n",
              "          element.innerHTML = '';\n",
              "          dataTable['output_type'] = 'display_data';\n",
              "          await google.colab.output.renderOutput(dataTable, element);\n",
              "          const docLink = document.createElement('div');\n",
              "          docLink.innerHTML = docLinkHtml;\n",
              "          element.appendChild(docLink);\n",
              "        }\n",
              "      </script>\n",
              "    </div>\n",
              "  </div>\n",
              "  "
            ]
          },
          "metadata": {},
          "execution_count": 234
        }
      ]
    },
    {
      "cell_type": "markdown",
      "source": [
        "### Kesimpulan\n",
        "\n",
        "*   Jumlah fitur ada 31, lebih sedikit dibandingkan jumlah record data pasien yang berjumlah 569\n",
        "*   Jumlah distribusi class B(Jinak) => 357 pasien, class M(Ganas) => 212 pasien.\n"
      ],
      "metadata": {
        "id": "ibU9gO9Kxuv1"
      }
    },
    {
      "cell_type": "markdown",
      "source": [
        "# 3. Memvalidasi Data"
      ],
      "metadata": {
        "id": "z1L4QcC6leG9"
      }
    },
    {
      "cell_type": "code",
      "source": [
        "# Cek dataframe\n",
        "data.head(5)"
      ],
      "metadata": {
        "colab": {
          "base_uri": "https://localhost:8080/",
          "height": 236
        },
        "id": "yrhYRXwOyxvt",
        "outputId": "571c6747-2bdd-477d-be25-d028334a2653"
      },
      "execution_count": null,
      "outputs": [
        {
          "output_type": "execute_result",
          "data": {
            "text/plain": [
              "  Class  fitur 1  fitur 2  fitur 3  fitur 4  fitur 5  fitur 6  fitur 7  \\\n",
              "0     M    17.99    10.38   122.80   1001.0  0.11840  0.27760   0.3001   \n",
              "1     M    20.57    17.77   132.90   1326.0  0.08474  0.07864   0.0869   \n",
              "2     M    19.69    21.25   130.00   1203.0  0.10960  0.15990   0.1974   \n",
              "3     M    11.42    20.38    77.58    386.1  0.14250  0.28390   0.2414   \n",
              "4     M    20.29    14.34   135.10   1297.0  0.10030  0.13280   0.1980   \n",
              "\n",
              "   fitur 8  fitur 9  ...  fitur 21  fitur 22  fitur 23  fitur 24  fitur 25  \\\n",
              "0  0.14710   0.2419  ...     25.38     17.33    184.60    2019.0    0.1622   \n",
              "1  0.07017   0.1812  ...     24.99     23.41    158.80    1956.0    0.1238   \n",
              "2  0.12790   0.2069  ...     23.57     25.53    152.50    1709.0    0.1444   \n",
              "3  0.10520   0.2597  ...     14.91     26.50     98.87     567.7    0.2098   \n",
              "4  0.10430   0.1809  ...     22.54     16.67    152.20    1575.0    0.1374   \n",
              "\n",
              "   fitur 26  fitur 27  fitur 28  fitur 29  fitur 30  \n",
              "0    0.6656    0.7119    0.2654    0.4601   0.11890  \n",
              "1    0.1866    0.2416    0.1860    0.2750   0.08902  \n",
              "2    0.4245    0.4504    0.2430    0.3613   0.08758  \n",
              "3    0.8663    0.6869    0.2575    0.6638   0.17300  \n",
              "4    0.2050    0.4000    0.1625    0.2364   0.07678  \n",
              "\n",
              "[5 rows x 31 columns]"
            ],
            "text/html": [
              "\n",
              "  <div id=\"df-7f9cd5bc-4944-4e0d-9dd9-e92a7deb10ac\">\n",
              "    <div class=\"colab-df-container\">\n",
              "      <div>\n",
              "<style scoped>\n",
              "    .dataframe tbody tr th:only-of-type {\n",
              "        vertical-align: middle;\n",
              "    }\n",
              "\n",
              "    .dataframe tbody tr th {\n",
              "        vertical-align: top;\n",
              "    }\n",
              "\n",
              "    .dataframe thead th {\n",
              "        text-align: right;\n",
              "    }\n",
              "</style>\n",
              "<table border=\"1\" class=\"dataframe\">\n",
              "  <thead>\n",
              "    <tr style=\"text-align: right;\">\n",
              "      <th></th>\n",
              "      <th>Class</th>\n",
              "      <th>fitur 1</th>\n",
              "      <th>fitur 2</th>\n",
              "      <th>fitur 3</th>\n",
              "      <th>fitur 4</th>\n",
              "      <th>fitur 5</th>\n",
              "      <th>fitur 6</th>\n",
              "      <th>fitur 7</th>\n",
              "      <th>fitur 8</th>\n",
              "      <th>fitur 9</th>\n",
              "      <th>...</th>\n",
              "      <th>fitur 21</th>\n",
              "      <th>fitur 22</th>\n",
              "      <th>fitur 23</th>\n",
              "      <th>fitur 24</th>\n",
              "      <th>fitur 25</th>\n",
              "      <th>fitur 26</th>\n",
              "      <th>fitur 27</th>\n",
              "      <th>fitur 28</th>\n",
              "      <th>fitur 29</th>\n",
              "      <th>fitur 30</th>\n",
              "    </tr>\n",
              "  </thead>\n",
              "  <tbody>\n",
              "    <tr>\n",
              "      <th>0</th>\n",
              "      <td>M</td>\n",
              "      <td>17.99</td>\n",
              "      <td>10.38</td>\n",
              "      <td>122.80</td>\n",
              "      <td>1001.0</td>\n",
              "      <td>0.11840</td>\n",
              "      <td>0.27760</td>\n",
              "      <td>0.3001</td>\n",
              "      <td>0.14710</td>\n",
              "      <td>0.2419</td>\n",
              "      <td>...</td>\n",
              "      <td>25.38</td>\n",
              "      <td>17.33</td>\n",
              "      <td>184.60</td>\n",
              "      <td>2019.0</td>\n",
              "      <td>0.1622</td>\n",
              "      <td>0.6656</td>\n",
              "      <td>0.7119</td>\n",
              "      <td>0.2654</td>\n",
              "      <td>0.4601</td>\n",
              "      <td>0.11890</td>\n",
              "    </tr>\n",
              "    <tr>\n",
              "      <th>1</th>\n",
              "      <td>M</td>\n",
              "      <td>20.57</td>\n",
              "      <td>17.77</td>\n",
              "      <td>132.90</td>\n",
              "      <td>1326.0</td>\n",
              "      <td>0.08474</td>\n",
              "      <td>0.07864</td>\n",
              "      <td>0.0869</td>\n",
              "      <td>0.07017</td>\n",
              "      <td>0.1812</td>\n",
              "      <td>...</td>\n",
              "      <td>24.99</td>\n",
              "      <td>23.41</td>\n",
              "      <td>158.80</td>\n",
              "      <td>1956.0</td>\n",
              "      <td>0.1238</td>\n",
              "      <td>0.1866</td>\n",
              "      <td>0.2416</td>\n",
              "      <td>0.1860</td>\n",
              "      <td>0.2750</td>\n",
              "      <td>0.08902</td>\n",
              "    </tr>\n",
              "    <tr>\n",
              "      <th>2</th>\n",
              "      <td>M</td>\n",
              "      <td>19.69</td>\n",
              "      <td>21.25</td>\n",
              "      <td>130.00</td>\n",
              "      <td>1203.0</td>\n",
              "      <td>0.10960</td>\n",
              "      <td>0.15990</td>\n",
              "      <td>0.1974</td>\n",
              "      <td>0.12790</td>\n",
              "      <td>0.2069</td>\n",
              "      <td>...</td>\n",
              "      <td>23.57</td>\n",
              "      <td>25.53</td>\n",
              "      <td>152.50</td>\n",
              "      <td>1709.0</td>\n",
              "      <td>0.1444</td>\n",
              "      <td>0.4245</td>\n",
              "      <td>0.4504</td>\n",
              "      <td>0.2430</td>\n",
              "      <td>0.3613</td>\n",
              "      <td>0.08758</td>\n",
              "    </tr>\n",
              "    <tr>\n",
              "      <th>3</th>\n",
              "      <td>M</td>\n",
              "      <td>11.42</td>\n",
              "      <td>20.38</td>\n",
              "      <td>77.58</td>\n",
              "      <td>386.1</td>\n",
              "      <td>0.14250</td>\n",
              "      <td>0.28390</td>\n",
              "      <td>0.2414</td>\n",
              "      <td>0.10520</td>\n",
              "      <td>0.2597</td>\n",
              "      <td>...</td>\n",
              "      <td>14.91</td>\n",
              "      <td>26.50</td>\n",
              "      <td>98.87</td>\n",
              "      <td>567.7</td>\n",
              "      <td>0.2098</td>\n",
              "      <td>0.8663</td>\n",
              "      <td>0.6869</td>\n",
              "      <td>0.2575</td>\n",
              "      <td>0.6638</td>\n",
              "      <td>0.17300</td>\n",
              "    </tr>\n",
              "    <tr>\n",
              "      <th>4</th>\n",
              "      <td>M</td>\n",
              "      <td>20.29</td>\n",
              "      <td>14.34</td>\n",
              "      <td>135.10</td>\n",
              "      <td>1297.0</td>\n",
              "      <td>0.10030</td>\n",
              "      <td>0.13280</td>\n",
              "      <td>0.1980</td>\n",
              "      <td>0.10430</td>\n",
              "      <td>0.1809</td>\n",
              "      <td>...</td>\n",
              "      <td>22.54</td>\n",
              "      <td>16.67</td>\n",
              "      <td>152.20</td>\n",
              "      <td>1575.0</td>\n",
              "      <td>0.1374</td>\n",
              "      <td>0.2050</td>\n",
              "      <td>0.4000</td>\n",
              "      <td>0.1625</td>\n",
              "      <td>0.2364</td>\n",
              "      <td>0.07678</td>\n",
              "    </tr>\n",
              "  </tbody>\n",
              "</table>\n",
              "<p>5 rows × 31 columns</p>\n",
              "</div>\n",
              "      <button class=\"colab-df-convert\" onclick=\"convertToInteractive('df-7f9cd5bc-4944-4e0d-9dd9-e92a7deb10ac')\"\n",
              "              title=\"Convert this dataframe to an interactive table.\"\n",
              "              style=\"display:none;\">\n",
              "        \n",
              "  <svg xmlns=\"http://www.w3.org/2000/svg\" height=\"24px\"viewBox=\"0 0 24 24\"\n",
              "       width=\"24px\">\n",
              "    <path d=\"M0 0h24v24H0V0z\" fill=\"none\"/>\n",
              "    <path d=\"M18.56 5.44l.94 2.06.94-2.06 2.06-.94-2.06-.94-.94-2.06-.94 2.06-2.06.94zm-11 1L8.5 8.5l.94-2.06 2.06-.94-2.06-.94L8.5 2.5l-.94 2.06-2.06.94zm10 10l.94 2.06.94-2.06 2.06-.94-2.06-.94-.94-2.06-.94 2.06-2.06.94z\"/><path d=\"M17.41 7.96l-1.37-1.37c-.4-.4-.92-.59-1.43-.59-.52 0-1.04.2-1.43.59L10.3 9.45l-7.72 7.72c-.78.78-.78 2.05 0 2.83L4 21.41c.39.39.9.59 1.41.59.51 0 1.02-.2 1.41-.59l7.78-7.78 2.81-2.81c.8-.78.8-2.07 0-2.86zM5.41 20L4 18.59l7.72-7.72 1.47 1.35L5.41 20z\"/>\n",
              "  </svg>\n",
              "      </button>\n",
              "      \n",
              "  <style>\n",
              "    .colab-df-container {\n",
              "      display:flex;\n",
              "      flex-wrap:wrap;\n",
              "      gap: 12px;\n",
              "    }\n",
              "\n",
              "    .colab-df-convert {\n",
              "      background-color: #E8F0FE;\n",
              "      border: none;\n",
              "      border-radius: 50%;\n",
              "      cursor: pointer;\n",
              "      display: none;\n",
              "      fill: #1967D2;\n",
              "      height: 32px;\n",
              "      padding: 0 0 0 0;\n",
              "      width: 32px;\n",
              "    }\n",
              "\n",
              "    .colab-df-convert:hover {\n",
              "      background-color: #E2EBFA;\n",
              "      box-shadow: 0px 1px 2px rgba(60, 64, 67, 0.3), 0px 1px 3px 1px rgba(60, 64, 67, 0.15);\n",
              "      fill: #174EA6;\n",
              "    }\n",
              "\n",
              "    [theme=dark] .colab-df-convert {\n",
              "      background-color: #3B4455;\n",
              "      fill: #D2E3FC;\n",
              "    }\n",
              "\n",
              "    [theme=dark] .colab-df-convert:hover {\n",
              "      background-color: #434B5C;\n",
              "      box-shadow: 0px 1px 3px 1px rgba(0, 0, 0, 0.15);\n",
              "      filter: drop-shadow(0px 1px 2px rgba(0, 0, 0, 0.3));\n",
              "      fill: #FFFFFF;\n",
              "    }\n",
              "  </style>\n",
              "\n",
              "      <script>\n",
              "        const buttonEl =\n",
              "          document.querySelector('#df-7f9cd5bc-4944-4e0d-9dd9-e92a7deb10ac button.colab-df-convert');\n",
              "        buttonEl.style.display =\n",
              "          google.colab.kernel.accessAllowed ? 'block' : 'none';\n",
              "\n",
              "        async function convertToInteractive(key) {\n",
              "          const element = document.querySelector('#df-7f9cd5bc-4944-4e0d-9dd9-e92a7deb10ac');\n",
              "          const dataTable =\n",
              "            await google.colab.kernel.invokeFunction('convertToInteractive',\n",
              "                                                     [key], {});\n",
              "          if (!dataTable) return;\n",
              "\n",
              "          const docLinkHtml = 'Like what you see? Visit the ' +\n",
              "            '<a target=\"_blank\" href=https://colab.research.google.com/notebooks/data_table.ipynb>data table notebook</a>'\n",
              "            + ' to learn more about interactive tables.';\n",
              "          element.innerHTML = '';\n",
              "          dataTable['output_type'] = 'display_data';\n",
              "          await google.colab.output.renderOutput(dataTable, element);\n",
              "          const docLink = document.createElement('div');\n",
              "          docLink.innerHTML = docLinkHtml;\n",
              "          element.appendChild(docLink);\n",
              "        }\n",
              "      </script>\n",
              "    </div>\n",
              "  </div>\n",
              "  "
            ]
          },
          "metadata": {},
          "execution_count": 235
        }
      ]
    },
    {
      "cell_type": "code",
      "source": [
        "# Mengecek apakah dataframe ada nilai kosong\n",
        "data.isnull().values.any()"
      ],
      "metadata": {
        "colab": {
          "base_uri": "https://localhost:8080/"
        },
        "id": "zUJ0ucJ1y5PE",
        "outputId": "42cc6884-4568-42a1-f3ea-460b647ccc51"
      },
      "execution_count": null,
      "outputs": [
        {
          "output_type": "execute_result",
          "data": {
            "text/plain": [
              "False"
            ]
          },
          "metadata": {},
          "execution_count": 207
        }
      ]
    },
    {
      "cell_type": "markdown",
      "source": [
        "# 4. Menentukan Objek"
      ],
      "metadata": {
        "id": "E8LtTtn0lmPl"
      }
    },
    {
      "cell_type": "markdown",
      "source": [
        "# 5. Membersihkan Data\n",
        "\n",
        "Strategi pembersihan data : \n",
        "*   Hapus data yang duplikat\n",
        "*   Cek fitur yang bernilai konstant"
      ],
      "metadata": {
        "id": "So2Zz1J6lrBP"
      }
    },
    {
      "cell_type": "markdown",
      "source": [
        "## Dataset Telah Bersih"
      ],
      "metadata": {
        "id": "u8TPUbllz1dj"
      }
    },
    {
      "cell_type": "code",
      "source": [
        "# Menghapus Data Duplikat\n",
        "# Melihat ukuran baris dan kolom dataframe\n",
        "data.shape"
      ],
      "metadata": {
        "colab": {
          "base_uri": "https://localhost:8080/"
        },
        "id": "9KxyHOwA0B_V",
        "outputId": "2d852711-60cd-45aa-e3c5-0193c52342e3"
      },
      "execution_count": null,
      "outputs": [
        {
          "output_type": "execute_result",
          "data": {
            "text/plain": [
              "(569, 31)"
            ]
          },
          "metadata": {},
          "execution_count": 236
        }
      ]
    },
    {
      "cell_type": "code",
      "source": [
        "# Menghapud data duplikat dan melihat kembali ukuran baris & kolom dataframe\n",
        "data = data.drop_duplicates()\n",
        "data.shape"
      ],
      "metadata": {
        "colab": {
          "base_uri": "https://localhost:8080/"
        },
        "id": "4NxN_UHG0HeM",
        "outputId": "bf786e60-dc63-451b-8844-2d07f90a1af6"
      },
      "execution_count": null,
      "outputs": [
        {
          "output_type": "execute_result",
          "data": {
            "text/plain": [
              "(569, 31)"
            ]
          },
          "metadata": {},
          "execution_count": 237
        }
      ]
    },
    {
      "cell_type": "markdown",
      "source": [
        "## Tidak ada dataset yang sama"
      ],
      "metadata": {
        "id": "N2pa39wy0KIa"
      }
    },
    {
      "cell_type": "code",
      "source": [
        "# Menghapus fitur yang bernilai konstant\n",
        "data = data.loc[:, data.apply(pd.Series.nunique) !=1]\n",
        "data.shape"
      ],
      "metadata": {
        "colab": {
          "base_uri": "https://localhost:8080/"
        },
        "id": "Nk_ZwDH40RlU",
        "outputId": "bb154a10-15a3-4c14-a46b-0890325b2688"
      },
      "execution_count": null,
      "outputs": [
        {
          "output_type": "execute_result",
          "data": {
            "text/plain": [
              "(569, 31)"
            ]
          },
          "metadata": {},
          "execution_count": 238
        }
      ]
    },
    {
      "cell_type": "markdown",
      "source": [
        "## Tidak ada fitur yang bernilai konstan"
      ],
      "metadata": {
        "id": "IQ16Lo-e0UeL"
      }
    },
    {
      "cell_type": "markdown",
      "source": [
        "# 6. Mengkonstruksi Data\n",
        "terdiri dari:\n",
        "\n",
        "*   Representasi fitur dan merubah tipenya.\n",
        "*   Membagi data menjadi training dan testing.\n",
        "\n",
        "*   Membandingkan Data Original, Data Normalisasi, Data Original PCA, Data Normalisasi PCA"
      ],
      "metadata": {
        "id": "dNU0WRdMluR-"
      }
    },
    {
      "cell_type": "code",
      "source": [
        "# Mengecek Representasi Fitur\n",
        "data.info()"
      ],
      "metadata": {
        "colab": {
          "base_uri": "https://localhost:8080/"
        },
        "id": "pZelnOtw0797",
        "outputId": "923c377a-e899-46d7-d4b3-9d3198b29c09"
      },
      "execution_count": null,
      "outputs": [
        {
          "output_type": "stream",
          "name": "stdout",
          "text": [
            "<class 'pandas.core.frame.DataFrame'>\n",
            "Int64Index: 569 entries, 0 to 568\n",
            "Data columns (total 31 columns):\n",
            " #   Column    Non-Null Count  Dtype  \n",
            "---  ------    --------------  -----  \n",
            " 0   Class     569 non-null    object \n",
            " 1   fitur 1   569 non-null    float64\n",
            " 2   fitur 2   569 non-null    float64\n",
            " 3   fitur 3   569 non-null    float64\n",
            " 4   fitur 4   569 non-null    float64\n",
            " 5   fitur 5   569 non-null    float64\n",
            " 6   fitur 6   569 non-null    float64\n",
            " 7   fitur 7   569 non-null    float64\n",
            " 8   fitur 8   569 non-null    float64\n",
            " 9   fitur 9   569 non-null    float64\n",
            " 10  fitur 10  569 non-null    float64\n",
            " 11  fitur 11  569 non-null    float64\n",
            " 12  fitur 12  569 non-null    float64\n",
            " 13  fitur 13  569 non-null    float64\n",
            " 14  fitur 14  569 non-null    float64\n",
            " 15  fitur 15  569 non-null    float64\n",
            " 16  fitur 16  569 non-null    float64\n",
            " 17  fitur 17  569 non-null    float64\n",
            " 18  fitur 18  569 non-null    float64\n",
            " 19  fitur 19  569 non-null    float64\n",
            " 20  fitur 20  569 non-null    float64\n",
            " 21  fitur 21  569 non-null    float64\n",
            " 22  fitur 22  569 non-null    float64\n",
            " 23  fitur 23  569 non-null    float64\n",
            " 24  fitur 24  569 non-null    float64\n",
            " 25  fitur 25  569 non-null    float64\n",
            " 26  fitur 26  569 non-null    float64\n",
            " 27  fitur 27  569 non-null    float64\n",
            " 28  fitur 28  569 non-null    float64\n",
            " 29  fitur 29  569 non-null    float64\n",
            " 30  fitur 30  569 non-null    float64\n",
            "dtypes: float64(30), object(1)\n",
            "memory usage: 142.2+ KB\n"
          ]
        }
      ]
    },
    {
      "cell_type": "code",
      "source": [
        "# Membagi Training dan Testing\n",
        "X = data.iloc[:,1:32]\n",
        "y = data['Class']"
      ],
      "metadata": {
        "id": "RbM47dORCcDx"
      },
      "execution_count": null,
      "outputs": []
    },
    {
      "cell_type": "code",
      "source": [
        "# Menampilkan X\n",
        "X.head()"
      ],
      "metadata": {
        "colab": {
          "base_uri": "https://localhost:8080/",
          "height": 236
        },
        "id": "Y9g-39QwCg2o",
        "outputId": "6c12c91d-2872-4c25-d9a3-3a4fa4c56ae5"
      },
      "execution_count": null,
      "outputs": [
        {
          "output_type": "execute_result",
          "data": {
            "text/plain": [
              "   fitur 1  fitur 2  fitur 3  fitur 4  fitur 5  fitur 6  fitur 7  fitur 8  \\\n",
              "0    17.99    10.38   122.80   1001.0  0.11840  0.27760   0.3001  0.14710   \n",
              "1    20.57    17.77   132.90   1326.0  0.08474  0.07864   0.0869  0.07017   \n",
              "2    19.69    21.25   130.00   1203.0  0.10960  0.15990   0.1974  0.12790   \n",
              "3    11.42    20.38    77.58    386.1  0.14250  0.28390   0.2414  0.10520   \n",
              "4    20.29    14.34   135.10   1297.0  0.10030  0.13280   0.1980  0.10430   \n",
              "\n",
              "   fitur 9  fitur 10  ...  fitur 21  fitur 22  fitur 23  fitur 24  fitur 25  \\\n",
              "0   0.2419   0.07871  ...     25.38     17.33    184.60    2019.0    0.1622   \n",
              "1   0.1812   0.05667  ...     24.99     23.41    158.80    1956.0    0.1238   \n",
              "2   0.2069   0.05999  ...     23.57     25.53    152.50    1709.0    0.1444   \n",
              "3   0.2597   0.09744  ...     14.91     26.50     98.87     567.7    0.2098   \n",
              "4   0.1809   0.05883  ...     22.54     16.67    152.20    1575.0    0.1374   \n",
              "\n",
              "   fitur 26  fitur 27  fitur 28  fitur 29  fitur 30  \n",
              "0    0.6656    0.7119    0.2654    0.4601   0.11890  \n",
              "1    0.1866    0.2416    0.1860    0.2750   0.08902  \n",
              "2    0.4245    0.4504    0.2430    0.3613   0.08758  \n",
              "3    0.8663    0.6869    0.2575    0.6638   0.17300  \n",
              "4    0.2050    0.4000    0.1625    0.2364   0.07678  \n",
              "\n",
              "[5 rows x 30 columns]"
            ],
            "text/html": [
              "\n",
              "  <div id=\"df-c73b4149-674b-4d48-b5b7-631ea1936139\">\n",
              "    <div class=\"colab-df-container\">\n",
              "      <div>\n",
              "<style scoped>\n",
              "    .dataframe tbody tr th:only-of-type {\n",
              "        vertical-align: middle;\n",
              "    }\n",
              "\n",
              "    .dataframe tbody tr th {\n",
              "        vertical-align: top;\n",
              "    }\n",
              "\n",
              "    .dataframe thead th {\n",
              "        text-align: right;\n",
              "    }\n",
              "</style>\n",
              "<table border=\"1\" class=\"dataframe\">\n",
              "  <thead>\n",
              "    <tr style=\"text-align: right;\">\n",
              "      <th></th>\n",
              "      <th>fitur 1</th>\n",
              "      <th>fitur 2</th>\n",
              "      <th>fitur 3</th>\n",
              "      <th>fitur 4</th>\n",
              "      <th>fitur 5</th>\n",
              "      <th>fitur 6</th>\n",
              "      <th>fitur 7</th>\n",
              "      <th>fitur 8</th>\n",
              "      <th>fitur 9</th>\n",
              "      <th>fitur 10</th>\n",
              "      <th>...</th>\n",
              "      <th>fitur 21</th>\n",
              "      <th>fitur 22</th>\n",
              "      <th>fitur 23</th>\n",
              "      <th>fitur 24</th>\n",
              "      <th>fitur 25</th>\n",
              "      <th>fitur 26</th>\n",
              "      <th>fitur 27</th>\n",
              "      <th>fitur 28</th>\n",
              "      <th>fitur 29</th>\n",
              "      <th>fitur 30</th>\n",
              "    </tr>\n",
              "  </thead>\n",
              "  <tbody>\n",
              "    <tr>\n",
              "      <th>0</th>\n",
              "      <td>17.99</td>\n",
              "      <td>10.38</td>\n",
              "      <td>122.80</td>\n",
              "      <td>1001.0</td>\n",
              "      <td>0.11840</td>\n",
              "      <td>0.27760</td>\n",
              "      <td>0.3001</td>\n",
              "      <td>0.14710</td>\n",
              "      <td>0.2419</td>\n",
              "      <td>0.07871</td>\n",
              "      <td>...</td>\n",
              "      <td>25.38</td>\n",
              "      <td>17.33</td>\n",
              "      <td>184.60</td>\n",
              "      <td>2019.0</td>\n",
              "      <td>0.1622</td>\n",
              "      <td>0.6656</td>\n",
              "      <td>0.7119</td>\n",
              "      <td>0.2654</td>\n",
              "      <td>0.4601</td>\n",
              "      <td>0.11890</td>\n",
              "    </tr>\n",
              "    <tr>\n",
              "      <th>1</th>\n",
              "      <td>20.57</td>\n",
              "      <td>17.77</td>\n",
              "      <td>132.90</td>\n",
              "      <td>1326.0</td>\n",
              "      <td>0.08474</td>\n",
              "      <td>0.07864</td>\n",
              "      <td>0.0869</td>\n",
              "      <td>0.07017</td>\n",
              "      <td>0.1812</td>\n",
              "      <td>0.05667</td>\n",
              "      <td>...</td>\n",
              "      <td>24.99</td>\n",
              "      <td>23.41</td>\n",
              "      <td>158.80</td>\n",
              "      <td>1956.0</td>\n",
              "      <td>0.1238</td>\n",
              "      <td>0.1866</td>\n",
              "      <td>0.2416</td>\n",
              "      <td>0.1860</td>\n",
              "      <td>0.2750</td>\n",
              "      <td>0.08902</td>\n",
              "    </tr>\n",
              "    <tr>\n",
              "      <th>2</th>\n",
              "      <td>19.69</td>\n",
              "      <td>21.25</td>\n",
              "      <td>130.00</td>\n",
              "      <td>1203.0</td>\n",
              "      <td>0.10960</td>\n",
              "      <td>0.15990</td>\n",
              "      <td>0.1974</td>\n",
              "      <td>0.12790</td>\n",
              "      <td>0.2069</td>\n",
              "      <td>0.05999</td>\n",
              "      <td>...</td>\n",
              "      <td>23.57</td>\n",
              "      <td>25.53</td>\n",
              "      <td>152.50</td>\n",
              "      <td>1709.0</td>\n",
              "      <td>0.1444</td>\n",
              "      <td>0.4245</td>\n",
              "      <td>0.4504</td>\n",
              "      <td>0.2430</td>\n",
              "      <td>0.3613</td>\n",
              "      <td>0.08758</td>\n",
              "    </tr>\n",
              "    <tr>\n",
              "      <th>3</th>\n",
              "      <td>11.42</td>\n",
              "      <td>20.38</td>\n",
              "      <td>77.58</td>\n",
              "      <td>386.1</td>\n",
              "      <td>0.14250</td>\n",
              "      <td>0.28390</td>\n",
              "      <td>0.2414</td>\n",
              "      <td>0.10520</td>\n",
              "      <td>0.2597</td>\n",
              "      <td>0.09744</td>\n",
              "      <td>...</td>\n",
              "      <td>14.91</td>\n",
              "      <td>26.50</td>\n",
              "      <td>98.87</td>\n",
              "      <td>567.7</td>\n",
              "      <td>0.2098</td>\n",
              "      <td>0.8663</td>\n",
              "      <td>0.6869</td>\n",
              "      <td>0.2575</td>\n",
              "      <td>0.6638</td>\n",
              "      <td>0.17300</td>\n",
              "    </tr>\n",
              "    <tr>\n",
              "      <th>4</th>\n",
              "      <td>20.29</td>\n",
              "      <td>14.34</td>\n",
              "      <td>135.10</td>\n",
              "      <td>1297.0</td>\n",
              "      <td>0.10030</td>\n",
              "      <td>0.13280</td>\n",
              "      <td>0.1980</td>\n",
              "      <td>0.10430</td>\n",
              "      <td>0.1809</td>\n",
              "      <td>0.05883</td>\n",
              "      <td>...</td>\n",
              "      <td>22.54</td>\n",
              "      <td>16.67</td>\n",
              "      <td>152.20</td>\n",
              "      <td>1575.0</td>\n",
              "      <td>0.1374</td>\n",
              "      <td>0.2050</td>\n",
              "      <td>0.4000</td>\n",
              "      <td>0.1625</td>\n",
              "      <td>0.2364</td>\n",
              "      <td>0.07678</td>\n",
              "    </tr>\n",
              "  </tbody>\n",
              "</table>\n",
              "<p>5 rows × 30 columns</p>\n",
              "</div>\n",
              "      <button class=\"colab-df-convert\" onclick=\"convertToInteractive('df-c73b4149-674b-4d48-b5b7-631ea1936139')\"\n",
              "              title=\"Convert this dataframe to an interactive table.\"\n",
              "              style=\"display:none;\">\n",
              "        \n",
              "  <svg xmlns=\"http://www.w3.org/2000/svg\" height=\"24px\"viewBox=\"0 0 24 24\"\n",
              "       width=\"24px\">\n",
              "    <path d=\"M0 0h24v24H0V0z\" fill=\"none\"/>\n",
              "    <path d=\"M18.56 5.44l.94 2.06.94-2.06 2.06-.94-2.06-.94-.94-2.06-.94 2.06-2.06.94zm-11 1L8.5 8.5l.94-2.06 2.06-.94-2.06-.94L8.5 2.5l-.94 2.06-2.06.94zm10 10l.94 2.06.94-2.06 2.06-.94-2.06-.94-.94-2.06-.94 2.06-2.06.94z\"/><path d=\"M17.41 7.96l-1.37-1.37c-.4-.4-.92-.59-1.43-.59-.52 0-1.04.2-1.43.59L10.3 9.45l-7.72 7.72c-.78.78-.78 2.05 0 2.83L4 21.41c.39.39.9.59 1.41.59.51 0 1.02-.2 1.41-.59l7.78-7.78 2.81-2.81c.8-.78.8-2.07 0-2.86zM5.41 20L4 18.59l7.72-7.72 1.47 1.35L5.41 20z\"/>\n",
              "  </svg>\n",
              "      </button>\n",
              "      \n",
              "  <style>\n",
              "    .colab-df-container {\n",
              "      display:flex;\n",
              "      flex-wrap:wrap;\n",
              "      gap: 12px;\n",
              "    }\n",
              "\n",
              "    .colab-df-convert {\n",
              "      background-color: #E8F0FE;\n",
              "      border: none;\n",
              "      border-radius: 50%;\n",
              "      cursor: pointer;\n",
              "      display: none;\n",
              "      fill: #1967D2;\n",
              "      height: 32px;\n",
              "      padding: 0 0 0 0;\n",
              "      width: 32px;\n",
              "    }\n",
              "\n",
              "    .colab-df-convert:hover {\n",
              "      background-color: #E2EBFA;\n",
              "      box-shadow: 0px 1px 2px rgba(60, 64, 67, 0.3), 0px 1px 3px 1px rgba(60, 64, 67, 0.15);\n",
              "      fill: #174EA6;\n",
              "    }\n",
              "\n",
              "    [theme=dark] .colab-df-convert {\n",
              "      background-color: #3B4455;\n",
              "      fill: #D2E3FC;\n",
              "    }\n",
              "\n",
              "    [theme=dark] .colab-df-convert:hover {\n",
              "      background-color: #434B5C;\n",
              "      box-shadow: 0px 1px 3px 1px rgba(0, 0, 0, 0.15);\n",
              "      filter: drop-shadow(0px 1px 2px rgba(0, 0, 0, 0.3));\n",
              "      fill: #FFFFFF;\n",
              "    }\n",
              "  </style>\n",
              "\n",
              "      <script>\n",
              "        const buttonEl =\n",
              "          document.querySelector('#df-c73b4149-674b-4d48-b5b7-631ea1936139 button.colab-df-convert');\n",
              "        buttonEl.style.display =\n",
              "          google.colab.kernel.accessAllowed ? 'block' : 'none';\n",
              "\n",
              "        async function convertToInteractive(key) {\n",
              "          const element = document.querySelector('#df-c73b4149-674b-4d48-b5b7-631ea1936139');\n",
              "          const dataTable =\n",
              "            await google.colab.kernel.invokeFunction('convertToInteractive',\n",
              "                                                     [key], {});\n",
              "          if (!dataTable) return;\n",
              "\n",
              "          const docLinkHtml = 'Like what you see? Visit the ' +\n",
              "            '<a target=\"_blank\" href=https://colab.research.google.com/notebooks/data_table.ipynb>data table notebook</a>'\n",
              "            + ' to learn more about interactive tables.';\n",
              "          element.innerHTML = '';\n",
              "          dataTable['output_type'] = 'display_data';\n",
              "          await google.colab.output.renderOutput(dataTable, element);\n",
              "          const docLink = document.createElement('div');\n",
              "          docLink.innerHTML = docLinkHtml;\n",
              "          element.appendChild(docLink);\n",
              "        }\n",
              "      </script>\n",
              "    </div>\n",
              "  </div>\n",
              "  "
            ]
          },
          "metadata": {},
          "execution_count": 243
        }
      ]
    },
    {
      "cell_type": "code",
      "source": [
        "# Menampilkan y\n",
        "y.head()"
      ],
      "metadata": {
        "colab": {
          "base_uri": "https://localhost:8080/"
        },
        "id": "63R7LFVxCk1g",
        "outputId": "5be650d0-badd-4c08-957e-62ee9d627825"
      },
      "execution_count": null,
      "outputs": [
        {
          "output_type": "execute_result",
          "data": {
            "text/plain": [
              "0    M\n",
              "1    M\n",
              "2    M\n",
              "3    M\n",
              "4    M\n",
              "Name: Class, dtype: object"
            ]
          },
          "metadata": {},
          "execution_count": 244
        }
      ]
    },
    {
      "cell_type": "markdown",
      "source": [
        "## Data Original"
      ],
      "metadata": {
        "id": "aDyLxNlmCr94"
      }
    },
    {
      "cell_type": "code",
      "source": [
        "# Membagi data menjadi training = 70% dan testing = 30%\n",
        "X_train, X_test, Y_train, Y_test = train_test_split(X,y, test_size=0.3, random_state=2022)"
      ],
      "metadata": {
        "id": "pqayFRSoBJ3Z"
      },
      "execution_count": null,
      "outputs": []
    },
    {
      "cell_type": "code",
      "source": [
        "print(f'Total # of sample in train dataset: {len(X_train)}')\n",
        "print(f'Total # of sample in test dataset: {len(X_test)}')"
      ],
      "metadata": {
        "colab": {
          "base_uri": "https://localhost:8080/"
        },
        "id": "9ecExE4UBn6A",
        "outputId": "ed487c2f-299b-4467-e490-e34918a38328"
      },
      "execution_count": null,
      "outputs": [
        {
          "output_type": "stream",
          "name": "stdout",
          "text": [
            "Total # of sample in train dataset: 398\n",
            "Total # of sample in test dataset: 171\n"
          ]
        }
      ]
    },
    {
      "cell_type": "markdown",
      "source": [
        "## Data Normalisasi"
      ],
      "metadata": {
        "id": "sh0UHNuCC03A"
      }
    },
    {
      "cell_type": "code",
      "source": [
        "# Normalisasi menggunakan StandardScaler\n",
        "X_norm = StandardScaler().fit_transform(X)"
      ],
      "metadata": {
        "id": "VJumDjDHCzyo"
      },
      "execution_count": null,
      "outputs": []
    },
    {
      "cell_type": "code",
      "source": [
        "# Melihat hasil normalisasi dengan StandardScaler\n",
        "X_norm"
      ],
      "metadata": {
        "colab": {
          "base_uri": "https://localhost:8080/"
        },
        "id": "PLwON-LCC7uB",
        "outputId": "d7805bd2-db92-44b2-89e6-3c9aeaddce24"
      },
      "execution_count": null,
      "outputs": [
        {
          "output_type": "execute_result",
          "data": {
            "text/plain": [
              "array([[ 1.09706398, -2.07333501,  1.26993369, ...,  2.29607613,\n",
              "         2.75062224,  1.93701461],\n",
              "       [ 1.82982061, -0.35363241,  1.68595471, ...,  1.0870843 ,\n",
              "        -0.24388967,  0.28118999],\n",
              "       [ 1.57988811,  0.45618695,  1.56650313, ...,  1.95500035,\n",
              "         1.152255  ,  0.20139121],\n",
              "       ...,\n",
              "       [ 0.70228425,  2.0455738 ,  0.67267578, ...,  0.41406869,\n",
              "        -1.10454895, -0.31840916],\n",
              "       [ 1.83834103,  2.33645719,  1.98252415, ...,  2.28998549,\n",
              "         1.91908301,  2.21963528],\n",
              "       [-1.80840125,  1.22179204, -1.81438851, ..., -1.74506282,\n",
              "        -0.04813821, -0.75120669]])"
            ]
          },
          "metadata": {},
          "execution_count": 249
        }
      ]
    },
    {
      "cell_type": "code",
      "source": [
        "X_train_norm, X_test_norm, Y_train_norm, Y_test_norm = train_test_split(X_norm,y, test_size=0.3, random_state=2022)"
      ],
      "metadata": {
        "id": "K942bUYaDAW5"
      },
      "execution_count": null,
      "outputs": []
    },
    {
      "cell_type": "markdown",
      "source": [
        "## Data Original PCA"
      ],
      "metadata": {
        "id": "x0eP-PGeDFC5"
      }
    },
    {
      "cell_type": "code",
      "source": [
        "pca = PCA(random_state=2022)\n",
        "pca.fit(X)\n",
        "ori_pca_array = pca.transform(X)\n",
        "ori_pca = pd.DataFrame(ori_pca_array)\n",
        "print(\"Heads of Original PCA:\", ori_pca.head())\n",
        "var_ratio = pca.explained_variance_ratio_\n",
        "print(\"\\n Explained Variance Ratio:\", var_ratio)\n",
        "sv = pca.singular_values_\n",
        "print(\"\\n Singular Value:\", sv)"
      ],
      "metadata": {
        "colab": {
          "base_uri": "https://localhost:8080/"
        },
        "id": "tG3u_yI8DHXw",
        "outputId": "a8ad4e83-9ce5-44fd-b53b-5b0990eb8c3e"
      },
      "execution_count": null,
      "outputs": [
        {
          "output_type": "stream",
          "name": "stdout",
          "text": [
            "Heads of Original PCA:             0           1          2          3          4         5   \\\n",
            "0  1160.142574 -293.917544  48.578398  -8.711975  32.000486  1.265415   \n",
            "1  1269.122443   15.630182 -35.394534  17.861283  -4.334874 -0.225872   \n",
            "2   995.793889   39.156743  -1.709753   4.199340  -0.466529 -2.652811   \n",
            "3  -407.180803  -67.380320   8.672848 -11.759867   7.115461  1.299436   \n",
            "4   930.341180  189.340742   1.374801   8.499183   7.613289  1.021160   \n",
            "\n",
            "         6         7         8         9   ...        20        21        22  \\\n",
            "0  0.931337  0.148167  0.745463  0.589359  ...  0.021189  0.000241  0.002528   \n",
            "1 -0.046037  0.200804 -0.485828 -0.084035  ...  0.005237  0.021069  0.001565   \n",
            "2 -0.779745 -0.274026 -0.173874 -0.186994  ... -0.009865 -0.002394 -0.004125   \n",
            "3 -1.267304 -0.060555 -0.330639 -0.144155  ...  0.011169  0.007063  0.001537   \n",
            "4 -0.335522  0.289109  0.036087 -0.138502  ... -0.009916  0.010269  0.002204   \n",
            "\n",
            "         23        24        25        26        27        28        29  \n",
            "0  0.011560  0.005773  0.001377 -0.001982  0.001293  0.001989  0.000704  \n",
            "1  0.006968 -0.006978  0.001411 -0.000083 -0.001347  0.000686 -0.001061  \n",
            "2 -0.004007  0.000709 -0.003781  0.000178  0.000018 -0.000775  0.000405  \n",
            "3  0.007003 -0.010261 -0.002899  0.000016  0.001369 -0.002139 -0.001657  \n",
            "4  0.002764  0.002455  0.001665  0.003290  0.000273  0.001783  0.000327  \n",
            "\n",
            "[5 rows x 30 columns]\n",
            "\n",
            " Explained Variance Ratio: [9.82044672e-01 1.61764899e-02 1.55751075e-03 1.20931964e-04\n",
            " 8.82724536e-05 6.64883951e-06 4.01713682e-06 8.22017197e-07\n",
            " 3.44135279e-07 1.86018721e-07 6.99473205e-08 1.65908880e-08\n",
            " 6.99641650e-09 4.78318306e-09 2.93549214e-09 1.41684927e-09\n",
            " 8.29577731e-10 5.20405883e-10 4.08463983e-10 3.63313378e-10\n",
            " 1.72849737e-10 1.27487508e-10 7.72682973e-11 6.28357718e-11\n",
            " 3.57302295e-11 2.76396041e-11 8.14452259e-12 6.30211541e-12\n",
            " 4.43666945e-12 1.55344680e-12]\n",
            "\n",
            " Singular Value: [1.58766659e+04 2.03767928e+03 6.32279658e+02 1.76183095e+02\n",
            " 1.50524184e+02 4.13110857e+01 3.21108643e+01 1.45256018e+01\n",
            " 9.39849429e+00 6.90990396e+00 4.23720255e+00 2.06361416e+00\n",
            " 1.34008242e+00 1.10803170e+00 8.68028820e-01 6.03053036e-01\n",
            " 4.61447425e-01 3.65480981e-01 3.23795320e-01 3.05375632e-01\n",
            " 2.10633792e-01 1.80895390e-01 1.40829733e-01 1.26998082e-01\n",
            " 9.57660526e-02 8.42286020e-02 4.57221348e-02 4.02195178e-02\n",
            " 3.37459936e-02 1.99683360e-02]\n"
          ]
        }
      ]
    },
    {
      "cell_type": "code",
      "source": [
        "# Visualisasi Data Normalisasi PCA\n",
        "cum_var_ratio = np.cumsum(var_ratio)\n",
        "\n",
        "plt.figure(figsize=(10, 5))\n",
        "plt.bar(range(len(var_ratio)),\n",
        "        var_ratio,\n",
        "        alpha=0.3333,\n",
        "        align='center',\n",
        "        label='individual explained variance',\n",
        "        color = 'g')\n",
        "plt.step(range(len(cum_var_ratio)),\n",
        "         cum_var_ratio,\n",
        "         where = 'mid',\n",
        "         label = 'cumulative explained variance')\n",
        "plt.ylabel('Explained variance ratio')\n",
        "plt.xlabel('Principal components')\n",
        "plt.legend(loc='best')\n",
        "plt.show()"
      ],
      "metadata": {
        "colab": {
          "base_uri": "https://localhost:8080/",
          "height": 349
        },
        "id": "XFvBZllADMih",
        "outputId": "0d88f022-6e11-4b50-be23-fe236c2a28bd"
      },
      "execution_count": null,
      "outputs": [
        {
          "output_type": "display_data",
          "data": {
            "text/plain": [
              "<Figure size 720x360 with 1 Axes>"
            ],
            "image/png": "[encoded data removed]"
          },
          "metadata": {}
        }
      ]
    },
    {
      "cell_type": "code",
      "source": [
        "# Dipilih 18  PC\n",
        "pca = PCA(n_components=18, random_state=2022)\n",
        "pca.fit(X_norm)\n",
        "norm_pca_array = pca.transform(X_norm)\n",
        "norm_pca = pd.DataFrame(data=norm_pca_array, columns = ['PC1', 'PC2', 'PC3', 'PC4', 'PC5', 'PC6', 'PC7', 'PC8', 'PC9', 'PC10', 'PC11', 'PC12', 'PC13', 'PC14', 'PC15', 'PC16', 'PC17', 'PC18', ])"
      ],
      "metadata": {
        "id": "xGlFPGAfDQ_w"
      },
      "execution_count": null,
      "outputs": []
    },
    {
      "cell_type": "code",
      "source": [
        "X_train_pca, X_test_pca, Y_train_pca, Y_test_pca = train_test_split(ori_pca,y, test_size=0.3, random_state=2022)"
      ],
      "metadata": {
        "id": "FkkATkQfDTu5"
      },
      "execution_count": null,
      "outputs": []
    },
    {
      "cell_type": "markdown",
      "source": [
        "## Data Normalisasi PCA"
      ],
      "metadata": {
        "id": "mtpRrG_TDWCY"
      }
    },
    {
      "cell_type": "code",
      "source": [
        "pca = PCA(random_state=2022)\n",
        "pca.fit(X_norm)\n",
        "norm_pca_array = pca.transform(X_norm)\n",
        "norm_pca = pd.DataFrame(norm_pca_array)\n",
        "print(\"Heads of iris_pca:\",norm_pca.head())\n",
        "var_ratio = pca.explained_variance_ratio_\n",
        "print(\"\\n Explained variance ratio:\",var_ratio)\n",
        "sv = pca.singular_values_\n",
        "print(\"\\n Singular Value:\",sv)"
      ],
      "metadata": {
        "colab": {
          "base_uri": "https://localhost:8080/"
        },
        "id": "DQBWyif0DYVY",
        "outputId": "4c03273b-8c77-495d-f375-61b74661e640"
      },
      "execution_count": null,
      "outputs": [
        {
          "output_type": "stream",
          "name": "stdout",
          "text": [
            "Heads of iris_pca:          0          1         2         3         4         5         6   \\\n",
            "0  9.192837   1.948583 -1.123166  3.633731 -1.195110  1.411424  2.159370   \n",
            "1  2.387802  -3.768172 -0.529293  1.118264  0.621775  0.028656  0.013358   \n",
            "2  5.733896  -1.075174 -0.551748  0.912083 -0.177086  0.541452 -0.668166   \n",
            "3  7.122953  10.275589 -3.232790  0.152547 -2.960878  3.053422  1.429911   \n",
            "4  3.935302  -1.948072  1.389767  2.940639  0.546747 -1.226495 -0.936213   \n",
            "\n",
            "         7         8         9   ...        20        21        22        23  \\\n",
            "0 -0.398407 -0.157118 -0.877402  ...  0.096515  0.068850  0.084519 -0.175256   \n",
            "1  0.240988 -0.711905  1.106995  ... -0.077327 -0.094578 -0.217718  0.011290   \n",
            "2  0.097374  0.024066  0.454275  ...  0.311067 -0.060309 -0.074291  0.102762   \n",
            "3  1.059565 -1.405440 -1.116975  ...  0.434193 -0.203266 -0.124105  0.153430   \n",
            "4  0.636376 -0.263805  0.377704  ... -0.116545 -0.017650  0.139454 -0.005332   \n",
            "\n",
            "         24        25        26        27        28        29  \n",
            "0 -0.151020 -0.201503 -0.252585 -0.033914  0.045648 -0.047169  \n",
            "1 -0.170510 -0.041129  0.181270  0.032624 -0.005687 -0.001868  \n",
            "2  0.171158  0.004735  0.049569  0.047026  0.003146  0.000751  \n",
            "3  0.077496 -0.275225  0.183462  0.042484 -0.069295 -0.019937  \n",
            "4  0.003062  0.039254  0.032168 -0.034786  0.005038  0.021214  \n",
            "\n",
            "[5 rows x 30 columns]\n",
            "\n",
            " Explained variance ratio: [4.42720256e-01 1.89711820e-01 9.39316326e-02 6.60213492e-02\n",
            " 5.49576849e-02 4.02452204e-02 2.25073371e-02 1.58872380e-02\n",
            " 1.38964937e-02 1.16897819e-02 9.79718988e-03 8.70537901e-03\n",
            " 8.04524987e-03 5.23365745e-03 3.13783217e-03 2.66209337e-03\n",
            " 1.97996793e-03 1.75395945e-03 1.64925306e-03 1.03864675e-03\n",
            " 9.99096464e-04 9.14646751e-04 8.11361259e-04 6.01833567e-04\n",
            " 5.16042379e-04 2.72587995e-04 2.30015463e-04 5.29779290e-05\n",
            " 2.49601032e-05 4.43482743e-06]\n",
            "\n",
            " Singular Value: [86.93235745 56.90677266 40.04263937 33.57058877 30.62887007 26.2104161\n",
            " 19.60102663 16.46800391 15.4017255  14.12602481 12.93205441 12.19019359\n",
            " 11.71889139  9.4519063   7.31866075  6.74106325  5.81360925  5.47175363\n",
            "  5.30591648  4.21066503  4.12971871  3.95133143  3.72155031  3.20519874\n",
            "  2.96796958  2.15709923  1.98150547  0.95096438  0.65273958  0.27514088]\n"
          ]
        }
      ]
    },
    {
      "cell_type": "code",
      "source": [
        "# Visualisasi Data Normalisasi PCA\n",
        "cum_var_ratio = np.cumsum(var_ratio)\n",
        "plt.figure(figsize=(10, 5))\n",
        "plt.bar(range(len(var_ratio)),\n",
        "var_ratio,\n",
        "alpha=0.3333,\n",
        "align='center',\n",
        "label='individual explained variance',\n",
        "color = 'g')\n",
        "plt.step(range(len(cum_var_ratio)),\n",
        "cum_var_ratio,\n",
        "where='mid',\n",
        "label='cumulative explained variance')\n",
        "plt.ylabel('Explained variance ratio')\n",
        "plt.xlabel('Principal components')\n",
        "plt.legend(loc='best')\n",
        "plt.show()\n",
        "print(\"Cumulative explained ratio:\",cum_var_ratio)"
      ],
      "metadata": {
        "colab": {
          "base_uri": "https://localhost:8080/",
          "height": 436
        },
        "id": "4aP8ZxQADd8h",
        "outputId": "4db827f0-5e7c-4f5e-8e8f-bea6329ac500"
      },
      "execution_count": null,
      "outputs": [
        {
          "output_type": "display_data",
          "data": {
            "text/plain": [
              "<Figure size 720x360 with 1 Axes>"
            ],
            "image/png": "[encoded data removed]"
          },
          "metadata": {}
        },
        {
          "output_type": "stream",
          "name": "stdout",
          "text": [
            "Cumulative explained ratio: [0.44272026 0.63243208 0.72636371 0.79238506 0.84734274 0.88758796\n",
            " 0.9100953  0.92598254 0.93987903 0.95156881 0.961366   0.97007138\n",
            " 0.97811663 0.98335029 0.98648812 0.98915022 0.99113018 0.99288414\n",
            " 0.9945334  0.99557204 0.99657114 0.99748579 0.99829715 0.99889898\n",
            " 0.99941502 0.99968761 0.99991763 0.99997061 0.99999557 1.        ]\n"
          ]
        }
      ]
    },
    {
      "cell_type": "code",
      "source": [
        "# Dipilih 18 PC\n",
        "pca = PCA(n_components=18, random_state=2022)\n",
        "pca.fit(X_norm)\n",
        "norm_pca_array = pca.transform(X_norm)\n",
        "norm_pca = pd.DataFrame(data=norm_pca_array, columns = ['PC1', 'PC2','PC3','PC4','PC5','PC6','PC7','PC8','PC9','PC10','PC11','PC12','PC13','PC14','PC15','PC16','PC17','PC18'])"
      ],
      "metadata": {
        "id": "AaI_lWPbDhTp"
      },
      "execution_count": null,
      "outputs": []
    },
    {
      "cell_type": "code",
      "source": [
        "X_train_norm_pca, X_test_norm_pca, Y_train_norm_pca, Y_test_norm_pca = train_test_split(norm_pca,y, test_size=0.3, random_state=2022)"
      ],
      "metadata": {
        "id": "at-8gfiKDleh"
      },
      "execution_count": null,
      "outputs": []
    },
    {
      "cell_type": "markdown",
      "source": [
        "# 7. Menentukan Label Data"
      ],
      "metadata": {
        "id": "Ved7Da5qmAZ3"
      }
    },
    {
      "cell_type": "markdown",
      "source": [
        "# 8. Membangun Model\n",
        "*   Teknik Pemodelan yang dipakai:\n",
        "\n",
        "  * Menggunakan Metode Decision Tree\n",
        "  * Parameter yang dipakai:\n",
        "      * [criterion: gini, entropy]\n",
        "      * [max_depth]\n",
        "      * [min sample split]\n",
        "      * [min sample leaf]\n",
        "* Skenario Pengujian:\n",
        "\n",
        "  * Menggunakan akurasi, presisi dan recall.\n",
        "  * Pengujian menggunakan Data Original.\n",
        "  * Pengujian menggunakan Data yang sudah dinormalisasi.\n",
        "  * Pengujian dengan Data Original yang diberikan PCA.\n",
        "  * Pengujian menggunakan Data yang sudah dinormalisasi dan diberikan PCA."
      ],
      "metadata": {
        "id": "6SCxg-YZmF6W"
      }
    },
    {
      "cell_type": "markdown",
      "source": [
        "## Decision Tree"
      ],
      "metadata": {
        "id": "e2rWp_JrD3NY"
      }
    },
    {
      "cell_type": "code",
      "source": [
        "from tables import parameters\n",
        "# Menyiapkan parameter yang digunakan\n",
        "parameters_dt = {\n",
        "    \"model__max_depth\": np.arange(1,21),\n",
        "    \"model__min_samples_leaf\": np.arange(1,101,2),\n",
        "    \"model__min_samples_split\": np.arange(2,11),\n",
        "    \"model__criterion\": ['gini', 'entropy'],\n",
        "    \"model__random_state\": [2022]\n",
        "}"
      ],
      "metadata": {
        "id": "w62SjckDD6rJ"
      },
      "execution_count": null,
      "outputs": []
    },
    {
      "cell_type": "markdown",
      "source": [
        "### Pemodelan Decision Tree"
      ],
      "metadata": {
        "id": "XB6DejdxEAF4"
      }
    },
    {
      "cell_type": "code",
      "source": [
        "# Pemodelan Decision Tree\n",
        "classifier_dt_pipeline = Pipeline([\n",
        "    ('model', DecisionTreeClassifier()),\n",
        "])"
      ],
      "metadata": {
        "id": "fa32G7UREA6Q"
      },
      "execution_count": null,
      "outputs": []
    },
    {
      "cell_type": "markdown",
      "source": [
        "### Pemodelan dengan Data Original"
      ],
      "metadata": {
        "id": "t53sZqk-EFnI"
      }
    },
    {
      "cell_type": "code",
      "source": [
        "ori_classifier_dt = GridSearchCV(classifier_dt_pipeline, parameters_dt, cv=3, n_jobs=-1)"
      ],
      "metadata": {
        "id": "ru37fYrbEGRA"
      },
      "execution_count": null,
      "outputs": []
    },
    {
      "cell_type": "code",
      "source": [
        "ori_classifier_dt.fit(X_train, Y_train.ravel())"
      ],
      "metadata": {
        "colab": {
          "base_uri": "https://localhost:8080/"
        },
        "id": "hv-Y4FlPEKmA",
        "outputId": "00c436a8-78c2-40a8-d7af-b69b33670798"
      },
      "execution_count": null,
      "outputs": [
        {
          "output_type": "execute_result",
          "data": {
            "text/plain": [
              "GridSearchCV(cv=3,\n",
              "             estimator=Pipeline(steps=[('model', DecisionTreeClassifier())]),\n",
              "             n_jobs=-1,\n",
              "             param_grid={'model__criterion': ['gini', 'entropy'],\n",
              "                         'model__max_depth': array([ 1,  2,  3,  4,  5,  6,  7,  8,  9, 10, 11, 12, 13, 14, 15, 16, 17,\n",
              "       18, 19, 20]),\n",
              "                         'model__min_samples_leaf': array([ 1,  3,  5,  7,  9, 11, 13, 15, 17, 19, 21, 23, 25, 27, 29, 31, 33,\n",
              "       35, 37, 39, 41, 43, 45, 47, 49, 51, 53, 55, 57, 59, 61, 63, 65, 67,\n",
              "       69, 71, 73, 75, 77, 79, 81, 83, 85, 87, 89, 91, 93, 95, 97, 99]),\n",
              "                         'model__min_samples_split': array([ 2,  3,  4,  5,  6,  7,  8,  9, 10]),\n",
              "                         'model__random_state': [2022]})"
            ]
          },
          "metadata": {},
          "execution_count": 262
        }
      ]
    },
    {
      "cell_type": "code",
      "source": [
        "ori_classifier_dt.best_estimator_"
      ],
      "metadata": {
        "colab": {
          "base_uri": "https://localhost:8080/"
        },
        "id": "ezwGbc1nFQaA",
        "outputId": "9b889eba-8a96-459e-f120-941b9d51ba88"
      },
      "execution_count": null,
      "outputs": [
        {
          "output_type": "execute_result",
          "data": {
            "text/plain": [
              "Pipeline(steps=[('model',\n",
              "                 DecisionTreeClassifier(criterion='entropy', max_depth=3,\n",
              "                                        min_samples_leaf=3,\n",
              "                                        random_state=2022))])"
            ]
          },
          "metadata": {},
          "execution_count": 263
        }
      ]
    },
    {
      "cell_type": "code",
      "source": [
        "for param_name in sorted(parameters_dt.keys()):\n",
        "  print('%s: %r' %(param_name, ori_classifier_dt.best_params_[param_name]))"
      ],
      "metadata": {
        "colab": {
          "base_uri": "https://localhost:8080/"
        },
        "id": "OLm6t0JXFVeo",
        "outputId": "6648a372-f85a-4621-adcc-7098bb117d71"
      },
      "execution_count": null,
      "outputs": [
        {
          "output_type": "stream",
          "name": "stdout",
          "text": [
            "model__criterion: 'entropy'\n",
            "model__max_depth: 3\n",
            "model__min_samples_leaf: 3\n",
            "model__min_samples_split: 2\n",
            "model__random_state: 2022\n"
          ]
        }
      ]
    },
    {
      "cell_type": "markdown",
      "source": [
        "### Pemodelan dengan Decision Tree dengan Data Normalisasi"
      ],
      "metadata": {
        "id": "gL4YJrKUFZZY"
      }
    },
    {
      "cell_type": "code",
      "source": [
        "norm_classifier_dt = GridSearchCV(classifier_dt_pipeline, parameters_dt, cv=3, n_jobs=-1)"
      ],
      "metadata": {
        "id": "zZLVCsCDFZ9C"
      },
      "execution_count": null,
      "outputs": []
    },
    {
      "cell_type": "code",
      "source": [
        "norm_classifier_dt.fit(X_train_norm, Y_train_norm.ravel())"
      ],
      "metadata": {
        "colab": {
          "base_uri": "https://localhost:8080/"
        },
        "id": "dighp5NqFecY",
        "outputId": "d379faa9-7539-44c3-e77d-af0eaad82c63"
      },
      "execution_count": null,
      "outputs": [
        {
          "output_type": "execute_result",
          "data": {
            "text/plain": [
              "GridSearchCV(cv=3,\n",
              "             estimator=Pipeline(steps=[('model', DecisionTreeClassifier())]),\n",
              "             n_jobs=-1,\n",
              "             param_grid={'model__criterion': ['gini', 'entropy'],\n",
              "                         'model__max_depth': array([ 1,  2,  3,  4,  5,  6,  7,  8,  9, 10, 11, 12, 13, 14, 15, 16, 17,\n",
              "       18, 19, 20]),\n",
              "                         'model__min_samples_leaf': array([ 1,  3,  5,  7,  9, 11, 13, 15, 17, 19, 21, 23, 25, 27, 29, 31, 33,\n",
              "       35, 37, 39, 41, 43, 45, 47, 49, 51, 53, 55, 57, 59, 61, 63, 65, 67,\n",
              "       69, 71, 73, 75, 77, 79, 81, 83, 85, 87, 89, 91, 93, 95, 97, 99]),\n",
              "                         'model__min_samples_split': array([ 2,  3,  4,  5,  6,  7,  8,  9, 10]),\n",
              "                         'model__random_state': [2022]})"
            ]
          },
          "metadata": {},
          "execution_count": 266
        }
      ]
    },
    {
      "cell_type": "markdown",
      "source": [
        "### Pemodelan Decision Tree dengan Data Original tapi diberikan PCA"
      ],
      "metadata": {
        "id": "SH3eJyweGMnP"
      }
    },
    {
      "cell_type": "code",
      "source": [
        "ori_pca_classifier_dt = GridSearchCV(classifier_dt_pipeline, parameters_dt, cv=3, n_jobs=-1)"
      ],
      "metadata": {
        "id": "7kGxZUdrGM_X"
      },
      "execution_count": null,
      "outputs": []
    },
    {
      "cell_type": "code",
      "source": [
        "ori_pca_classifier_dt.fit(X_train_pca, Y_train_pca.ravel())"
      ],
      "metadata": {
        "colab": {
          "base_uri": "https://localhost:8080/"
        },
        "id": "y7bQJuJmGRdC",
        "outputId": "0e2802e8-be6f-475e-de49-9e38f10d9097"
      },
      "execution_count": null,
      "outputs": [
        {
          "output_type": "execute_result",
          "data": {
            "text/plain": [
              "GridSearchCV(cv=3,\n",
              "             estimator=Pipeline(steps=[('model', DecisionTreeClassifier())]),\n",
              "             n_jobs=-1,\n",
              "             param_grid={'model__criterion': ['gini', 'entropy'],\n",
              "                         'model__max_depth': array([ 1,  2,  3,  4,  5,  6,  7,  8,  9, 10, 11, 12, 13, 14, 15, 16, 17,\n",
              "       18, 19, 20]),\n",
              "                         'model__min_samples_leaf': array([ 1,  3,  5,  7,  9, 11, 13, 15, 17, 19, 21, 23, 25, 27, 29, 31, 33,\n",
              "       35, 37, 39, 41, 43, 45, 47, 49, 51, 53, 55, 57, 59, 61, 63, 65, 67,\n",
              "       69, 71, 73, 75, 77, 79, 81, 83, 85, 87, 89, 91, 93, 95, 97, 99]),\n",
              "                         'model__min_samples_split': array([ 2,  3,  4,  5,  6,  7,  8,  9, 10]),\n",
              "                         'model__random_state': [2022]})"
            ]
          },
          "metadata": {},
          "execution_count": 268
        }
      ]
    },
    {
      "cell_type": "markdown",
      "source": [
        "### Pemodelan Decision Tree dengan Data Normalisasi tapi diberikan PCA"
      ],
      "metadata": {
        "id": "bFW0Wh0iGpfO"
      }
    },
    {
      "cell_type": "code",
      "source": [
        "norm_pca_classifier_dt = GridSearchCV(classifier_dt_pipeline, parameters_dt, cv=3, n_jobs=-1)"
      ],
      "metadata": {
        "id": "-JRWKUL1HY9v"
      },
      "execution_count": null,
      "outputs": []
    },
    {
      "cell_type": "code",
      "source": [
        "norm_pca_classifier_dt.fit(X_train_norm_pca,Y_train_norm_pca.ravel())"
      ],
      "metadata": {
        "colab": {
          "base_uri": "https://localhost:8080/"
        },
        "id": "rmIzW-T-HaxX",
        "outputId": "4aa9b996-63ff-40c9-9ce4-a2024c59f2b6"
      },
      "execution_count": null,
      "outputs": [
        {
          "output_type": "execute_result",
          "data": {
            "text/plain": [
              "GridSearchCV(cv=3,\n",
              "             estimator=Pipeline(steps=[('model', DecisionTreeClassifier())]),\n",
              "             n_jobs=-1,\n",
              "             param_grid={'model__criterion': ['gini', 'entropy'],\n",
              "                         'model__max_depth': array([ 1,  2,  3,  4,  5,  6,  7,  8,  9, 10, 11, 12, 13, 14, 15, 16, 17,\n",
              "       18, 19, 20]),\n",
              "                         'model__min_samples_leaf': array([ 1,  3,  5,  7,  9, 11, 13, 15, 17, 19, 21, 23, 25, 27, 29, 31, 33,\n",
              "       35, 37, 39, 41, 43, 45, 47, 49, 51, 53, 55, 57, 59, 61, 63, 65, 67,\n",
              "       69, 71, 73, 75, 77, 79, 81, 83, 85, 87, 89, 91, 93, 95, 97, 99]),\n",
              "                         'model__min_samples_split': array([ 2,  3,  4,  5,  6,  7,  8,  9, 10]),\n",
              "                         'model__random_state': [2022]})"
            ]
          },
          "metadata": {},
          "execution_count": 270
        }
      ]
    },
    {
      "cell_type": "markdown",
      "source": [
        "# 9. Mengevaluasi Hasil Model"
      ],
      "metadata": {
        "id": "23CvZEHKmJKe"
      }
    },
    {
      "cell_type": "markdown",
      "source": [
        "### Evaluasi Dengan Data Original"
      ],
      "metadata": {
        "id": "kel3-8BBHh0P"
      }
    },
    {
      "cell_type": "code",
      "source": [
        "ori_y_pred_dt_train = ori_classifier_dt.predict(X_train)\n",
        "\n",
        "ori_accuracy_dt_train = accuracy_score(Y_train,ori_y_pred_dt_train)\n",
        "print('Akurasi pada training set: ', ori_accuracy_dt_train)\n",
        "\n",
        "ori_precision_dt_train = precision_score(Y_train,ori_y_pred_dt_train, average='micro')\n",
        "print('Precision pada training set: ', ori_precision_dt_train)\n",
        "\n",
        "ori_recall_dt_train = recall_score(Y_train,ori_y_pred_dt_train, average='micro')\n",
        "print('Recall pada training set: ', ori_recall_dt_train)\n",
        "\n",
        "ori_y_pred_dt_test = ori_classifier_dt.predict(X_test)\n",
        "\n",
        "ori_accuracy_dt_test = accuracy_score(Y_test,ori_y_pred_dt_test)\n",
        "print('Akurasi pada test set: ', ori_accuracy_dt_test)\n",
        "\n",
        "ori_precision_dt_test = precision_score(Y_test,ori_y_pred_dt_test, average='micro')\n",
        "print('Precision pada test set: ', ori_precision_dt_test)\n",
        "\n",
        "ori_recall_dt_test = recall_score(Y_test,ori_y_pred_dt_test, average='micro')\n",
        "print('Recall pada test set: ', ori_recall_dt_test)"
      ],
      "metadata": {
        "colab": {
          "base_uri": "https://localhost:8080/"
        },
        "id": "l5drgJIZH3CI",
        "outputId": "09fa6484-b78a-46a7-c08c-77c6d6d9dc9b"
      },
      "execution_count": null,
      "outputs": [
        {
          "output_type": "stream",
          "name": "stdout",
          "text": [
            "Akurasi pada training set:  0.9748743718592965\n",
            "Precision pada training set:  0.9748743718592965\n",
            "Recall pada training set:  0.9748743718592965\n",
            "Akurasi pada test set:  0.9181286549707602\n",
            "Precision pada test set:  0.9181286549707602\n",
            "Recall pada test set:  0.9181286549707602\n"
          ]
        }
      ]
    },
    {
      "cell_type": "code",
      "source": [
        "# Visualisasi Confution Matrix dengan Seaborn\n",
        "sns.heatmap(confusion_matrix(Y_test, ori_y_pred_dt_test), annot=True, cmap='viridis', fmt='.0f')\n",
        "plt.xlabel('Predicted Values', fontdict={'size':14}, labelpad=10)\n",
        "plt.ylabel('Actual Values', fontdict={'size':14}, labelpad=10)\n",
        "plt.title('Confution Matrix pada bagian testing untuk data asli')\n",
        "plt.show()"
      ],
      "metadata": {
        "colab": {
          "base_uri": "https://localhost:8080/",
          "height": 317
        },
        "id": "z8ZQ7_4aH4iy",
        "outputId": "c2a23f19-8682-40b8-bbcf-27cb5a70a89e"
      },
      "execution_count": null,
      "outputs": [
        {
          "output_type": "display_data",
          "data": {
            "text/plain": [
              "<Figure size 432x288 with 2 Axes>"
            ],
            "image/png": "[encoded data removed]"
          },
          "metadata": {}
        }
      ]
    },
    {
      "cell_type": "markdown",
      "source": [
        "### Evaluasi dengan Data Normalisasi"
      ],
      "metadata": {
        "id": "YTPlsUHYH8Z4"
      }
    },
    {
      "cell_type": "code",
      "source": [
        "norm_y_pred_dt_train = norm_classifier_dt.predict(X_train_norm)\n",
        "\n",
        "norm_accuracy_dt_train = accuracy_score(Y_train_norm,norm_y_pred_dt_train)\n",
        "print('Akurasi pada training set: ', norm_accuracy_dt_train)\n",
        "\n",
        "norm_precision_dt_train = precision_score(Y_train_norm,norm_y_pred_dt_train, average='micro')\n",
        "print('Precision pada training set: ', norm_precision_dt_train)\n",
        "\n",
        "norm_recall_dt_train = recall_score(Y_train_norm,norm_y_pred_dt_train, average='micro')\n",
        "print('Recall pada training set: ', norm_recall_dt_train)\n",
        "\n",
        "norm_y_pred_dt_test = norm_classifier_dt.predict(X_test_norm)\n",
        "\n",
        "norm_accuracy_dt_test = accuracy_score(Y_test_norm,norm_y_pred_dt_test)\n",
        "print('Akurasi pada test set: ', norm_accuracy_dt_test)\n",
        "\n",
        "norm_precision_dt_test = precision_score(Y_test_norm,norm_y_pred_dt_test, average='micro')\n",
        "\n",
        "print('Precision pada test set: ', norm_precision_dt_test)\n",
        "norm_recall_dt_test = recall_score(Y_test_norm,norm_y_pred_dt_test, average='micro')\n",
        "print('Recall pada test set: ', norm_recall_dt_test)"
      ],
      "metadata": {
        "colab": {
          "base_uri": "https://localhost:8080/"
        },
        "id": "RrhFHNmpH89T",
        "outputId": "a330eac0-758c-4404-be91-24c3045d31ca"
      },
      "execution_count": null,
      "outputs": [
        {
          "output_type": "stream",
          "name": "stdout",
          "text": [
            "Akurasi pada training set:  0.9748743718592965\n",
            "Precision pada training set:  0.9748743718592965\n",
            "Recall pada training set:  0.9748743718592965\n",
            "Akurasi pada test set:  0.9181286549707602\n",
            "Precision pada test set:  0.9181286549707602\n",
            "Recall pada test set:  0.9181286549707602\n"
          ]
        }
      ]
    },
    {
      "cell_type": "code",
      "source": [
        "# Visualisasi Confusion Matrix dengan Seaborn\n",
        "sns.heatmap(confusion_matrix(Y_test_norm,norm_y_pred_dt_test),annot=True,cmap='viridis', fmt='.0f')\n",
        "plt.xlabel('Predicted Values', fontdict={'size':14}, labelpad=10)\n",
        "plt.ylabel('Actual Values', fontdict={'size':14}, labelpad=10)\n",
        "plt.title('Confusion Matrix pada bagian testing untuk data asli')\n",
        "plt.show()"
      ],
      "metadata": {
        "colab": {
          "base_uri": "https://localhost:8080/",
          "height": 317
        },
        "id": "_YLRJjMkH_WY",
        "outputId": "3b7f561b-b420-44b7-a48f-30cada0004ee"
      },
      "execution_count": null,
      "outputs": [
        {
          "output_type": "display_data",
          "data": {
            "text/plain": [
              "<Figure size 432x288 with 2 Axes>"
            ],
            "image/png": "[encoded data removed]"
          },
          "metadata": {}
        }
      ]
    },
    {
      "cell_type": "markdown",
      "source": [
        "### Evaluasi PCA dengan Data Original"
      ],
      "metadata": {
        "id": "Y0fBrWkSIDPx"
      }
    },
    {
      "cell_type": "code",
      "source": [
        "ori_pca_y_pred_dt_train = ori_pca_classifier_dt.predict(X_train_pca)\n",
        "\n",
        "ori_pca_accuracy_dt_train = accuracy_score(Y_train_pca,ori_pca_y_pred_dt_train)\n",
        "print('Akurasi pada training set: ', ori_pca_accuracy_dt_train)\n",
        "\n",
        "ori_pca_precision_dt_train = precision_score(Y_train_pca,ori_pca_y_pred_dt_train, average='micro')\n",
        "print('Precision pada training set: ', ori_pca_precision_dt_train)\n",
        "\n",
        "ori_pca_recall_dt_train = recall_score(Y_train_pca,ori_pca_y_pred_dt_train, average='micro')\n",
        "print('Recall pada training set: ', ori_pca_recall_dt_train)\n",
        "\n",
        "ori_pca_y_pred_dt_test = ori_pca_classifier_dt.predict(X_test_pca)\n",
        "\n",
        "ori_pca_accuracy_dt_test = accuracy_score(Y_test_pca,ori_pca_y_pred_dt_test)\n",
        "print('Akurasi pada test set: ', ori_pca_accuracy_dt_test)\n",
        "\n",
        "ori_pca_precision_dt_test = precision_score(Y_test_pca,ori_pca_y_pred_dt_test, average='micro')\n",
        "print('Precision pada test set: ', ori_pca_precision_dt_test)\n",
        "\n",
        "ori_pca_recall_dt_test = recall_score(Y_test_pca,ori_pca_y_pred_dt_test, average='micro')\n",
        "print('Recall pada test set: ', ori_pca_recall_dt_test)"
      ],
      "metadata": {
        "colab": {
          "base_uri": "https://localhost:8080/"
        },
        "id": "sJcONDaNIGJg",
        "outputId": "35199d87-a51e-468c-86c5-62570eedbb35"
      },
      "execution_count": null,
      "outputs": [
        {
          "output_type": "stream",
          "name": "stdout",
          "text": [
            "Akurasi pada training set:  0.964824120603015\n",
            "Precision pada training set:  0.964824120603015\n",
            "Recall pada training set:  0.964824120603015\n",
            "Akurasi pada test set:  0.9239766081871345\n",
            "Precision pada test set:  0.9239766081871345\n",
            "Recall pada test set:  0.9239766081871345\n"
          ]
        }
      ]
    },
    {
      "cell_type": "markdown",
      "source": [
        "### Evaluasi Data Normalisasi dengan PCA"
      ],
      "metadata": {
        "id": "13RDYuNIIONB"
      }
    },
    {
      "cell_type": "code",
      "source": [
        "norm_pca_y_pred_dt_train = norm_pca_classifier_dt.predict(X_train_norm_pca)\n",
        "\n",
        "norm_pca_accuracy_dt_train = accuracy_score(Y_train_norm_pca,norm_pca_y_pred_dt_train)\n",
        "print('Akurasi pada training set: ', norm_pca_accuracy_dt_train)\n",
        "\n",
        "norm_pca_precision_dt_train = precision_score(Y_train_norm_pca,norm_pca_y_pred_dt_train, average='micro')\n",
        "print('Precision pada training set: ', norm_pca_precision_dt_train)\n",
        "\n",
        "norm_pca_recall_dt_train = recall_score(Y_train_norm_pca,norm_pca_y_pred_dt_train, average='micro')\n",
        "print('Recall pada training set: ', norm_pca_recall_dt_train)\n",
        "\n",
        "norm_pca_y_pred_dt_test = norm_pca_classifier_dt.predict(X_test_norm_pca)\n",
        "\n",
        "norm_pca_accuracy_dt_test = accuracy_score(Y_test_norm_pca,norm_pca_y_pred_dt_test)\n",
        "print('Akurasi pada test set: ', norm_pca_accuracy_dt_test)\n",
        "\n",
        "norm_pca_precision_dt_test = precision_score(Y_test_norm_pca,norm_pca_y_pred_dt_test, average='micro')\n",
        "print('Precision pada test set: ', norm_pca_precision_dt_test)\n",
        "\n",
        "norm_pca_recall_dt_test = recall_score(Y_test_norm_pca,norm_pca_y_pred_dt_test, average='micro')\n",
        "print('Recall pada test set: ', norm_pca_recall_dt_test)"
      ],
      "metadata": {
        "colab": {
          "base_uri": "https://localhost:8080/"
        },
        "id": "Rd39Z1upIPFI",
        "outputId": "834195aa-9be2-4efe-f000-51a7f452628e"
      },
      "execution_count": null,
      "outputs": [
        {
          "output_type": "stream",
          "name": "stdout",
          "text": [
            "Akurasi pada training set:  0.9974874371859297\n",
            "Precision pada training set:  0.9974874371859297\n",
            "Recall pada training set:  0.9974874371859297\n",
            "Akurasi pada test set:  0.9532163742690059\n",
            "Precision pada test set:  0.9532163742690059\n",
            "Recall pada test set:  0.9532163742690059\n"
          ]
        }
      ]
    },
    {
      "cell_type": "markdown",
      "source": [
        "# 10. Melakukan Proses Review hasil Pemodelan"
      ],
      "metadata": {
        "id": "R-yue26mmQO-"
      }
    },
    {
      "cell_type": "code",
      "source": [
        "models = [\n",
        "    ('Decision Tree Data Original', ori_accuracy_dt_train, ori_accuracy_dt_test),\n",
        "    ('Decision Tree Data Normalisasi', norm_accuracy_dt_train, norm_accuracy_dt_test),\n",
        "    ('Decision Tree PCA Data Original', ori_pca_accuracy_dt_train, ori_pca_accuracy_dt_test),\n",
        "    ('Decision Tree PCA Data Normalisasi', norm_pca_accuracy_dt_train, norm_pca_accuracy_dt_test)\n",
        "]"
      ],
      "metadata": {
        "id": "G8oF9WL8IYDA"
      },
      "execution_count": null,
      "outputs": []
    },
    {
      "cell_type": "code",
      "source": [
        "# Melakukan perbandingan hasil training akurasi dan test akurasi dengan 4 model\n",
        "predict = pd.DataFrame(data = models, columns=['Model', 'Training Accuracy', 'Test Accuracy'])\n",
        "predict"
      ],
      "metadata": {
        "colab": {
          "base_uri": "https://localhost:8080/",
          "height": 175
        },
        "id": "2T3od5XMIaL4",
        "outputId": "f6ee4211-d10e-4ff4-89e5-302ca8e1c226"
      },
      "execution_count": null,
      "outputs": [
        {
          "output_type": "execute_result",
          "data": {
            "text/plain": [
              "                                Model  Training Accuracy  Test Accuracy\n",
              "0         Decision Tree Data Original           0.974874       0.918129\n",
              "1      Decision Tree Data Normalisasi           0.974874       0.918129\n",
              "2     Decision Tree PCA Data Original           0.964824       0.923977\n",
              "3  Decision Tree PCA Data Normalisasi           0.997487       0.953216"
            ],
            "text/html": [
              "\n",
              "  <div id=\"df-ed3f5c1f-aad5-4dc0-be76-d3b30af336ad\">\n",
              "    <div class=\"colab-df-container\">\n",
              "      <div>\n",
              "<style scoped>\n",
              "    .dataframe tbody tr th:only-of-type {\n",
              "        vertical-align: middle;\n",
              "    }\n",
              "\n",
              "    .dataframe tbody tr th {\n",
              "        vertical-align: top;\n",
              "    }\n",
              "\n",
              "    .dataframe thead th {\n",
              "        text-align: right;\n",
              "    }\n",
              "</style>\n",
              "<table border=\"1\" class=\"dataframe\">\n",
              "  <thead>\n",
              "    <tr style=\"text-align: right;\">\n",
              "      <th></th>\n",
              "      <th>Model</th>\n",
              "      <th>Training Accuracy</th>\n",
              "      <th>Test Accuracy</th>\n",
              "    </tr>\n",
              "  </thead>\n",
              "  <tbody>\n",
              "    <tr>\n",
              "      <th>0</th>\n",
              "      <td>Decision Tree Data Original</td>\n",
              "      <td>0.974874</td>\n",
              "      <td>0.918129</td>\n",
              "    </tr>\n",
              "    <tr>\n",
              "      <th>1</th>\n",
              "      <td>Decision Tree Data Normalisasi</td>\n",
              "      <td>0.974874</td>\n",
              "      <td>0.918129</td>\n",
              "    </tr>\n",
              "    <tr>\n",
              "      <th>2</th>\n",
              "      <td>Decision Tree PCA Data Original</td>\n",
              "      <td>0.964824</td>\n",
              "      <td>0.923977</td>\n",
              "    </tr>\n",
              "    <tr>\n",
              "      <th>3</th>\n",
              "      <td>Decision Tree PCA Data Normalisasi</td>\n",
              "      <td>0.997487</td>\n",
              "      <td>0.953216</td>\n",
              "    </tr>\n",
              "  </tbody>\n",
              "</table>\n",
              "</div>\n",
              "      <button class=\"colab-df-convert\" onclick=\"convertToInteractive('df-ed3f5c1f-aad5-4dc0-be76-d3b30af336ad')\"\n",
              "              title=\"Convert this dataframe to an interactive table.\"\n",
              "              style=\"display:none;\">\n",
              "        \n",
              "  <svg xmlns=\"http://www.w3.org/2000/svg\" height=\"24px\"viewBox=\"0 0 24 24\"\n",
              "       width=\"24px\">\n",
              "    <path d=\"M0 0h24v24H0V0z\" fill=\"none\"/>\n",
              "    <path d=\"M18.56 5.44l.94 2.06.94-2.06 2.06-.94-2.06-.94-.94-2.06-.94 2.06-2.06.94zm-11 1L8.5 8.5l.94-2.06 2.06-.94-2.06-.94L8.5 2.5l-.94 2.06-2.06.94zm10 10l.94 2.06.94-2.06 2.06-.94-2.06-.94-.94-2.06-.94 2.06-2.06.94z\"/><path d=\"M17.41 7.96l-1.37-1.37c-.4-.4-.92-.59-1.43-.59-.52 0-1.04.2-1.43.59L10.3 9.45l-7.72 7.72c-.78.78-.78 2.05 0 2.83L4 21.41c.39.39.9.59 1.41.59.51 0 1.02-.2 1.41-.59l7.78-7.78 2.81-2.81c.8-.78.8-2.07 0-2.86zM5.41 20L4 18.59l7.72-7.72 1.47 1.35L5.41 20z\"/>\n",
              "  </svg>\n",
              "      </button>\n",
              "      \n",
              "  <style>\n",
              "    .colab-df-container {\n",
              "      display:flex;\n",
              "      flex-wrap:wrap;\n",
              "      gap: 12px;\n",
              "    }\n",
              "\n",
              "    .colab-df-convert {\n",
              "      background-color: #E8F0FE;\n",
              "      border: none;\n",
              "      border-radius: 50%;\n",
              "      cursor: pointer;\n",
              "      display: none;\n",
              "      fill: #1967D2;\n",
              "      height: 32px;\n",
              "      padding: 0 0 0 0;\n",
              "      width: 32px;\n",
              "    }\n",
              "\n",
              "    .colab-df-convert:hover {\n",
              "      background-color: #E2EBFA;\n",
              "      box-shadow: 0px 1px 2px rgba(60, 64, 67, 0.3), 0px 1px 3px 1px rgba(60, 64, 67, 0.15);\n",
              "      fill: #174EA6;\n",
              "    }\n",
              "\n",
              "    [theme=dark] .colab-df-convert {\n",
              "      background-color: #3B4455;\n",
              "      fill: #D2E3FC;\n",
              "    }\n",
              "\n",
              "    [theme=dark] .colab-df-convert:hover {\n",
              "      background-color: #434B5C;\n",
              "      box-shadow: 0px 1px 3px 1px rgba(0, 0, 0, 0.15);\n",
              "      filter: drop-shadow(0px 1px 2px rgba(0, 0, 0, 0.3));\n",
              "      fill: #FFFFFF;\n",
              "    }\n",
              "  </style>\n",
              "\n",
              "      <script>\n",
              "        const buttonEl =\n",
              "          document.querySelector('#df-ed3f5c1f-aad5-4dc0-be76-d3b30af336ad button.colab-df-convert');\n",
              "        buttonEl.style.display =\n",
              "          google.colab.kernel.accessAllowed ? 'block' : 'none';\n",
              "\n",
              "        async function convertToInteractive(key) {\n",
              "          const element = document.querySelector('#df-ed3f5c1f-aad5-4dc0-be76-d3b30af336ad');\n",
              "          const dataTable =\n",
              "            await google.colab.kernel.invokeFunction('convertToInteractive',\n",
              "                                                     [key], {});\n",
              "          if (!dataTable) return;\n",
              "\n",
              "          const docLinkHtml = 'Like what you see? Visit the ' +\n",
              "            '<a target=\"_blank\" href=https://colab.research.google.com/notebooks/data_table.ipynb>data table notebook</a>'\n",
              "            + ' to learn more about interactive tables.';\n",
              "          element.innerHTML = '';\n",
              "          dataTable['output_type'] = 'display_data';\n",
              "          await google.colab.output.renderOutput(dataTable, element);\n",
              "          const docLink = document.createElement('div');\n",
              "          docLink.innerHTML = docLinkHtml;\n",
              "          element.appendChild(docLink);\n",
              "        }\n",
              "      </script>\n",
              "    </div>\n",
              "  </div>\n",
              "  "
            ]
          },
          "metadata": {},
          "execution_count": 279
        }
      ]
    },
    {
      "cell_type": "code",
      "source": [
        "models_comparison = [\n",
        "  ('Decision Tree Data Original', ori_accuracy_dt_test, ori_recall_dt_test, ori_precision_dt_test),\n",
        "  ('Decision Tree Data Normalisasi', norm_accuracy_dt_test, norm_recall_dt_test, norm_precision_dt_test),\n",
        "  ('Decision Tree PCA Data Original', ori_pca_accuracy_dt_test, ori_pca_recall_dt_test, ori_pca_precision_dt_test),\n",
        "  ('Decision Tree PCA Data Normalisasi', norm_pca_accuracy_dt_test, norm_pca_recall_dt_test, norm_pca_precision_dt_test),\n",
        "]"
      ],
      "metadata": {
        "id": "rftoVfBVIcTx"
      },
      "execution_count": null,
      "outputs": []
    },
    {
      "cell_type": "code",
      "source": [
        "# Melakukan perbandingan hasil Akurasi, Presisi dan Recall pada data Testing dengan 4 model\n",
        "comparison = pd.DataFrame(data = models_comparison, columns=['Model', 'Accuracy', 'Recall', 'Precision'])\n",
        "comparison"
      ],
      "metadata": {
        "colab": {
          "base_uri": "https://localhost:8080/",
          "height": 175
        },
        "id": "x5nHFkMiIeZy",
        "outputId": "6d2103b7-99f2-43d1-da20-a49029481d80"
      },
      "execution_count": null,
      "outputs": [
        {
          "output_type": "execute_result",
          "data": {
            "text/plain": [
              "                                Model  Accuracy    Recall  Precision\n",
              "0         Decision Tree Data Original  0.918129  0.918129   0.918129\n",
              "1      Decision Tree Data Normalisasi  0.918129  0.918129   0.918129\n",
              "2     Decision Tree PCA Data Original  0.923977  0.923977   0.923977\n",
              "3  Decision Tree PCA Data Normalisasi  0.953216  0.953216   0.953216"
            ],
            "text/html": [
              "\n",
              "  <div id=\"df-7bedc062-ed7f-416d-9d23-168f7b1c3906\">\n",
              "    <div class=\"colab-df-container\">\n",
              "      <div>\n",
              "<style scoped>\n",
              "    .dataframe tbody tr th:only-of-type {\n",
              "        vertical-align: middle;\n",
              "    }\n",
              "\n",
              "    .dataframe tbody tr th {\n",
              "        vertical-align: top;\n",
              "    }\n",
              "\n",
              "    .dataframe thead th {\n",
              "        text-align: right;\n",
              "    }\n",
              "</style>\n",
              "<table border=\"1\" class=\"dataframe\">\n",
              "  <thead>\n",
              "    <tr style=\"text-align: right;\">\n",
              "      <th></th>\n",
              "      <th>Model</th>\n",
              "      <th>Accuracy</th>\n",
              "      <th>Recall</th>\n",
              "      <th>Precision</th>\n",
              "    </tr>\n",
              "  </thead>\n",
              "  <tbody>\n",
              "    <tr>\n",
              "      <th>0</th>\n",
              "      <td>Decision Tree Data Original</td>\n",
              "      <td>0.918129</td>\n",
              "      <td>0.918129</td>\n",
              "      <td>0.918129</td>\n",
              "    </tr>\n",
              "    <tr>\n",
              "      <th>1</th>\n",
              "      <td>Decision Tree Data Normalisasi</td>\n",
              "      <td>0.918129</td>\n",
              "      <td>0.918129</td>\n",
              "      <td>0.918129</td>\n",
              "    </tr>\n",
              "    <tr>\n",
              "      <th>2</th>\n",
              "      <td>Decision Tree PCA Data Original</td>\n",
              "      <td>0.923977</td>\n",
              "      <td>0.923977</td>\n",
              "      <td>0.923977</td>\n",
              "    </tr>\n",
              "    <tr>\n",
              "      <th>3</th>\n",
              "      <td>Decision Tree PCA Data Normalisasi</td>\n",
              "      <td>0.953216</td>\n",
              "      <td>0.953216</td>\n",
              "      <td>0.953216</td>\n",
              "    </tr>\n",
              "  </tbody>\n",
              "</table>\n",
              "</div>\n",
              "      <button class=\"colab-df-convert\" onclick=\"convertToInteractive('df-7bedc062-ed7f-416d-9d23-168f7b1c3906')\"\n",
              "              title=\"Convert this dataframe to an interactive table.\"\n",
              "              style=\"display:none;\">\n",
              "        \n",
              "  <svg xmlns=\"http://www.w3.org/2000/svg\" height=\"24px\"viewBox=\"0 0 24 24\"\n",
              "       width=\"24px\">\n",
              "    <path d=\"M0 0h24v24H0V0z\" fill=\"none\"/>\n",
              "    <path d=\"M18.56 5.44l.94 2.06.94-2.06 2.06-.94-2.06-.94-.94-2.06-.94 2.06-2.06.94zm-11 1L8.5 8.5l.94-2.06 2.06-.94-2.06-.94L8.5 2.5l-.94 2.06-2.06.94zm10 10l.94 2.06.94-2.06 2.06-.94-2.06-.94-.94-2.06-.94 2.06-2.06.94z\"/><path d=\"M17.41 7.96l-1.37-1.37c-.4-.4-.92-.59-1.43-.59-.52 0-1.04.2-1.43.59L10.3 9.45l-7.72 7.72c-.78.78-.78 2.05 0 2.83L4 21.41c.39.39.9.59 1.41.59.51 0 1.02-.2 1.41-.59l7.78-7.78 2.81-2.81c.8-.78.8-2.07 0-2.86zM5.41 20L4 18.59l7.72-7.72 1.47 1.35L5.41 20z\"/>\n",
              "  </svg>\n",
              "      </button>\n",
              "      \n",
              "  <style>\n",
              "    .colab-df-container {\n",
              "      display:flex;\n",
              "      flex-wrap:wrap;\n",
              "      gap: 12px;\n",
              "    }\n",
              "\n",
              "    .colab-df-convert {\n",
              "      background-color: #E8F0FE;\n",
              "      border: none;\n",
              "      border-radius: 50%;\n",
              "      cursor: pointer;\n",
              "      display: none;\n",
              "      fill: #1967D2;\n",
              "      height: 32px;\n",
              "      padding: 0 0 0 0;\n",
              "      width: 32px;\n",
              "    }\n",
              "\n",
              "    .colab-df-convert:hover {\n",
              "      background-color: #E2EBFA;\n",
              "      box-shadow: 0px 1px 2px rgba(60, 64, 67, 0.3), 0px 1px 3px 1px rgba(60, 64, 67, 0.15);\n",
              "      fill: #174EA6;\n",
              "    }\n",
              "\n",
              "    [theme=dark] .colab-df-convert {\n",
              "      background-color: #3B4455;\n",
              "      fill: #D2E3FC;\n",
              "    }\n",
              "\n",
              "    [theme=dark] .colab-df-convert:hover {\n",
              "      background-color: #434B5C;\n",
              "      box-shadow: 0px 1px 3px 1px rgba(0, 0, 0, 0.15);\n",
              "      filter: drop-shadow(0px 1px 2px rgba(0, 0, 0, 0.3));\n",
              "      fill: #FFFFFF;\n",
              "    }\n",
              "  </style>\n",
              "\n",
              "      <script>\n",
              "        const buttonEl =\n",
              "          document.querySelector('#df-7bedc062-ed7f-416d-9d23-168f7b1c3906 button.colab-df-convert');\n",
              "        buttonEl.style.display =\n",
              "          google.colab.kernel.accessAllowed ? 'block' : 'none';\n",
              "\n",
              "        async function convertToInteractive(key) {\n",
              "          const element = document.querySelector('#df-7bedc062-ed7f-416d-9d23-168f7b1c3906');\n",
              "          const dataTable =\n",
              "            await google.colab.kernel.invokeFunction('convertToInteractive',\n",
              "                                                     [key], {});\n",
              "          if (!dataTable) return;\n",
              "\n",
              "          const docLinkHtml = 'Like what you see? Visit the ' +\n",
              "            '<a target=\"_blank\" href=https://colab.research.google.com/notebooks/data_table.ipynb>data table notebook</a>'\n",
              "            + ' to learn more about interactive tables.';\n",
              "          element.innerHTML = '';\n",
              "          dataTable['output_type'] = 'display_data';\n",
              "          await google.colab.output.renderOutput(dataTable, element);\n",
              "          const docLink = document.createElement('div');\n",
              "          docLink.innerHTML = docLinkHtml;\n",
              "          element.appendChild(docLink);\n",
              "        }\n",
              "      </script>\n",
              "    </div>\n",
              "  </div>\n",
              "  "
            ]
          },
          "metadata": {},
          "execution_count": 281
        }
      ]
    },
    {
      "cell_type": "code",
      "source": [
        "# Visualisasi Perbandingan 4 model dengan Seaborn\n",
        "f, axes = plt.subplots(2,1, figsize=(14,10))\n",
        "predict.sort_values(by=['Training Accuracy'], ascending=False, inplace=True)\n",
        "sns.barplot(x='Training Accuracy', y='Model', data = predict, palette='Blues_d', ax = axes[0])\n",
        "\n",
        "#axes[0].set(xlabel='Region', ylabel='Charges')\n",
        "axes[0].set_xlabel('Training Accuracy', size=16)\n",
        "axes[0].set_ylabel('Model')\n",
        "axes[0].set_xlim(0,1.0)\n",
        "axes[0].set_xticks(np.arange(0, 1.1, 0.1))\n",
        "predict.sort_values(by=['Test Accuracy'], ascending=False, inplace=True)\n",
        "sns.barplot(x='Test Accuracy', y='Model', data = predict, palette='Greens_d', ax = axes[1])\n",
        "\n",
        "#axes[0].set(xlabel='Region', ylabel='Charges')\n",
        "axes[1].set_xlabel('Test Accuracy', size=16)\n",
        "axes[1].set_ylabel('Model')\n",
        "axes[1].set_xlim(0,1.0)\n",
        "axes[1].set_xticks(np.arange(0, 1.1, 0.1))\n",
        "plt.show()"
      ],
      "metadata": {
        "colab": {
          "base_uri": "https://localhost:8080/",
          "height": 618
        },
        "id": "BjUmGNNjIiAQ",
        "outputId": "67652dd6-fa09-471e-e6c5-5aa4ecf4f8b6"
      },
      "execution_count": null,
      "outputs": [
        {
          "output_type": "display_data",
          "data": {
            "text/plain": [
              "<Figure size 1008x720 with 2 Axes>"
            ],
            "image/png": "[encoded data removed]"
          },
          "metadata": {}
        }
      ]
    },
    {
      "cell_type": "markdown",
      "source": [
        "## Kesimpulan:\n",
        "\n",
        "\n",
        "*   Model terbak dari Dataset Kanker Payudara adalah menggunakan Decision Tree PCA Data Normalisasi dengan nilai akurasi tertinggi pada Data Training sebesar 99,7% dan akurasi tertinggi pada Data Testing sebesar 95%"
      ],
      "metadata": {
        "id": "aox0uEbmIzt0"
      }
    }
  ]
}